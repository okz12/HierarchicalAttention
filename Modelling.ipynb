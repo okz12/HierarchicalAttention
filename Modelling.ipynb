{
 "cells": [
  {
   "cell_type": "markdown",
   "metadata": {},
   "source": [
    "### Download Data if needed"
   ]
  },
  {
   "cell_type": "code",
   "execution_count": 1,
   "metadata": {},
   "outputs": [
    {
     "name": "stderr",
     "output_type": "stream",
     "text": [
      "Downloading...\n",
      "From: https://drive.google.com/uc?export=download&id=0Bz8a_Dbh9Qhbd2JNdDBsQUdocVU\n",
      "To: /root/HierarchicalAttention/data/yahoo_answers_csv.tar.gz\n",
      "319MB [00:30, 10.4MB/s] \n"
     ]
    }
   ],
   "source": [
    "import os\n",
    "if not os.path.exists('./data'):\n",
    "    os.mkdir('./data')\n",
    "\n",
    "if not os.path.exists('./data/yahoo_answers_csv/train.csv'):\n",
    "    import gdown\n",
    "    url = 'https://drive.google.com/uc?export=download&id=0Bz8a_Dbh9Qhbd2JNdDBsQUdocVU'\n",
    "    output = './data/yahoo_answers_csv.tar.gz'\n",
    "    gdown.download(url, output, quiet=False)\n",
    "    gdown.extractall(output, './data')"
   ]
  },
  {
   "cell_type": "markdown",
   "metadata": {},
   "source": [
    "### Load Dataframe"
   ]
  },
  {
   "cell_type": "code",
   "execution_count": 2,
   "metadata": {},
   "outputs": [],
   "source": [
    "import pandas as pd\n",
    "from sklearn.model_selection import train_test_split\n",
    "\n",
    "with open ('data/yahoo_answers_csv/classes.txt') as f:\n",
    "    classes = f.read()\n",
    "rev_label_map = {i: c for i, c in enumerate(classes.split(\"\\n\")[:-1])}\n",
    "label_map = {v : i for i, v in rev_label_map.items()}\n",
    "\n",
    "def dataframe_process(df):\n",
    "    df = df.fillna('')\n",
    "    df['Text'] = 'Q. ' + df['Question'] + ' ' + df['Question Desc'] + ' A. ' + df['Answers']\n",
    "    df = df.drop(['Question', 'Question Desc', 'Answers'], axis=1)\n",
    "    df['Label'] = df['Label'] - 1\n",
    "    return df\n",
    "\n",
    "df = pd.read_csv(\"./data/yahoo_answers_csv/train.csv\", header = None, names = ['Label', 'Question', 'Question Desc','Answers'], nrows = 600000)\n",
    "df = dataframe_process(df)\n",
    "\n",
    "test = pd.read_csv(\"./data/yahoo_answers_csv/test.csv\", header = None, names = ['Label', 'Question', 'Question Desc','Answers'])\n",
    "test = dataframe_process(test)\n",
    "X_test, y_test = list(test['Text']), list(test['Label'])\n",
    "\n",
    "\n",
    "X_train, X_val, y_train, y_val = train_test_split(list(df['Text']), list(df['Label']), test_size=0.2)\n",
    "\n",
    "pre = Preprocessor(PunktSentenceTokenizer(), AutoTokenizer.from_pretrained(pretrained_embedding_model, use_fast=True))\n",
    "train_features = [pre.encode_document(x) for x in tqdm(X_train)]\n",
    "val_features = [pre.encode_document(x) for x in tqdm(X_val)]\n",
    "test_features = [pre.encode_document(x) for x in tqdm(X_test)]\n",
    "\n",
    "data = {\n",
    "    'test' : {\n",
    "        'features' : test_features,\n",
    "        'labels' : y_test\n",
    "    } ,\n",
    "    'train' : {\n",
    "        'features' : train_features,\n",
    "        'labels' : y_train\n",
    "    } ,\n",
    "    'valid' : {\n",
    "        'features' : val_features,\n",
    "        'labels' : y_val\n",
    "    }\n",
    "}"
   ]
  },
  {
   "cell_type": "markdown",
   "metadata": {},
   "source": [
    "### Modelling"
   ]
  },
  {
   "cell_type": "code",
   "execution_count": 3,
   "metadata": {},
   "outputs": [],
   "source": [
    "from utils import device, train, evaluate, save_checkpoint, HANDataset\n",
    "import pytorch_lightning as pl\n",
    "from model import HierarchicalAttentionNetwork, Preprocessor\n",
    "from transformers import AutoTokenizer, AutoModel\n",
    "from nltk.tokenize import PunktSentenceTokenizer\n",
    "from tqdm import tqdm\n",
    "import torch"
   ]
  },
  {
   "cell_type": "code",
   "execution_count": null,
   "metadata": {},
   "outputs": [
    {
     "data": {
      "application/vnd.jupyter.widget-view+json": {
       "model_id": "a67aa06e82f14c438c4788d3d752173e",
       "version_major": 2,
       "version_minor": 0
      },
      "text/plain": [
       "HBox(children=(FloatProgress(value=0.0, description='Downloading', max=480.0, style=ProgressStyle(description_…"
      ]
     },
     "metadata": {},
     "output_type": "display_data"
    },
    {
     "name": "stdout",
     "output_type": "stream",
     "text": [
      "\n"
     ]
    },
    {
     "data": {
      "application/vnd.jupyter.widget-view+json": {
       "model_id": "a56cd42d0bb24979ba7429103f332629",
       "version_major": 2,
       "version_minor": 0
      },
      "text/plain": [
       "HBox(children=(FloatProgress(value=0.0, description='Downloading', max=331070498.0, style=ProgressStyle(descri…"
      ]
     },
     "metadata": {},
     "output_type": "display_data"
    },
    {
     "name": "stdout",
     "output_type": "stream",
     "text": [
      "\n"
     ]
    },
    {
     "data": {
      "application/vnd.jupyter.widget-view+json": {
       "model_id": "1e95002d98a84c0c9c17ace0ca926ed0",
       "version_major": 2,
       "version_minor": 0
      },
      "text/plain": [
       "HBox(children=(FloatProgress(value=0.0, description='Downloading', max=898823.0, style=ProgressStyle(descripti…"
      ]
     },
     "metadata": {},
     "output_type": "display_data"
    },
    {
     "name": "stdout",
     "output_type": "stream",
     "text": [
      "\n"
     ]
    },
    {
     "data": {
      "application/vnd.jupyter.widget-view+json": {
       "model_id": "8e5cb5fd2b304df7ad3084abd97a3a6c",
       "version_major": 2,
       "version_minor": 0
      },
      "text/plain": [
       "HBox(children=(FloatProgress(value=0.0, description='Downloading', max=456318.0, style=ProgressStyle(descripti…"
      ]
     },
     "metadata": {},
     "output_type": "display_data"
    },
    {
     "name": "stdout",
     "output_type": "stream",
     "text": [
      "\n"
     ]
    },
    {
     "data": {
      "application/vnd.jupyter.widget-view+json": {
       "model_id": "02a07ab19e0c45488636a48fa3b4ab15",
       "version_major": 2,
       "version_minor": 0
      },
      "text/plain": [
       "HBox(children=(FloatProgress(value=0.0, description='Downloading', max=1355863.0, style=ProgressStyle(descript…"
      ]
     },
     "metadata": {},
     "output_type": "display_data"
    },
    {
     "name": "stderr",
     "output_type": "stream",
     "text": [
      "  0%|          | 42/480000 [00:00<19:12, 416.50it/s]"
     ]
    },
    {
     "name": "stdout",
     "output_type": "stream",
     "text": [
      "\n"
     ]
    },
    {
     "name": "stderr",
     "output_type": "stream",
     "text": [
      "100%|██████████| 480000/480000 [16:41<00:00, 479.40it/s]\n",
      " 76%|███████▌  | 91366/120000 [03:12<01:01, 465.67it/s]"
     ]
    }
   ],
   "source": [
    "pretrained_embedding_model = 'distilroberta-base'\n",
    "embedding_layer = AutoModel.from_pretrained(pretrained_embedding_model).get_input_embeddings()\n",
    "\n",
    "train_dataset = HANDataset(train_features, y_train)\n",
    "val_dataset = HANDataset(val_features, y_val)\n",
    "test_dataset = HANDataset(test_features, y_test)"
   ]
  },
  {
   "cell_type": "markdown",
   "metadata": {},
   "source": [
    "### Train"
   ]
  },
  {
   "cell_type": "code",
   "execution_count": 12,
   "metadata": {},
   "outputs": [],
   "source": [
    "batch_size = 64\n",
    "lr = 1e-3\n",
    "epochs = 10\n",
    "model_filename = f\"model.pth.tar\"\n",
    "\n",
    "model = HierarchicalAttentionNetwork(n_classes = len(rev_label_map.keys()), \n",
    "                                    embedding_layer = embedding_layer,\n",
    "                                    embedding_size = 768,\n",
    "                                    fine_tune_embeddings = False, \n",
    "                                    word_rnn_size = 50, \n",
    "                                    sentence_rnn_size = 50, \n",
    "                                    word_rnn_layers = 1,\n",
    "                                    sentence_rnn_layers = 1, \n",
    "                                    word_att_size = 100, # size of the word-level attention layer (also the size of the word context vector)\n",
    "                                    sentence_att_size = 100, # size of the sentence-level attention layer (also the size of the sentence context vector)\n",
    "                                    dropout = 0.3,\n",
    "                                    train_dataset = train_dataset,\n",
    "                                    valid_dataset = val_dataset,\n",
    "                                    test_dataset = test_dataset)"
   ]
  },
  {
   "cell_type": "code",
   "execution_count": null,
   "metadata": {},
   "outputs": [
    {
     "name": "stderr",
     "output_type": "stream",
     "text": [
      "GPU available: True, used: True\n",
      "TPU available: None, using: 0 TPU cores\n",
      "LOCAL_RANK: 0 - CUDA_VISIBLE_DEVICES: [0]\n",
      "\n",
      "  | Name               | Type              | Params\n",
      "---------------------------------------------------------\n",
      "0 | sentence_attention | SentenceAttention | 38.9 M\n",
      "1 | fc                 | Linear            | 1.0 K \n",
      "2 | dropout            | Dropout           | 0     \n",
      "---------------------------------------------------------\n",
      "313 K     Trainable params\n",
      "38.6 M    Non-trainable params\n",
      "38.9 M    Total params\n"
     ]
    },
    {
     "data": {
      "application/vnd.jupyter.widget-view+json": {
       "model_id": "4e500936bb91430a9f10e2f629b00daa",
       "version_major": 2,
       "version_minor": 0
      },
      "text/plain": [
       "HBox(children=(FloatProgress(value=1.0, bar_style='info', description='Validation sanity check', layout=Layout…"
      ]
     },
     "metadata": {},
     "output_type": "display_data"
    },
    {
     "data": {
      "application/vnd.jupyter.widget-view+json": {
       "model_id": "fd05f54e7c7b4a1886d498a1de7a2303",
       "version_major": 2,
       "version_minor": 0
      },
      "text/plain": [
       "HBox(children=(FloatProgress(value=1.0, bar_style='info', description='Training', layout=Layout(flex='2'), max…"
      ]
     },
     "metadata": {},
     "output_type": "display_data"
    },
    {
     "data": {
      "application/vnd.jupyter.widget-view+json": {
       "model_id": "",
       "version_major": 2,
       "version_minor": 0
      },
      "text/plain": [
       "HBox(children=(FloatProgress(value=1.0, bar_style='info', description='Validating', layout=Layout(flex='2'), m…"
      ]
     },
     "metadata": {},
     "output_type": "display_data"
    },
    {
     "data": {
      "application/vnd.jupyter.widget-view+json": {
       "model_id": "",
       "version_major": 2,
       "version_minor": 0
      },
      "text/plain": [
       "HBox(children=(FloatProgress(value=1.0, bar_style='info', description='Validating', layout=Layout(flex='2'), m…"
      ]
     },
     "metadata": {},
     "output_type": "display_data"
    }
   ],
   "source": [
    "trainer = pl.Trainer(gpus=1, max_epochs=3, progress_bar_refresh_rate=20)\n",
    "trainer.fit(model)"
   ]
  }
 ],
 "metadata": {
  "kernelspec": {
   "display_name": "Python 3",
   "language": "python",
   "name": "python3"
  },
  "language_info": {
   "codemirror_mode": {
    "name": "ipython",
    "version": 3
   },
   "file_extension": ".py",
   "mimetype": "text/x-python",
   "name": "python",
   "nbconvert_exporter": "python",
   "pygments_lexer": "ipython3",
   "version": "3.8.3"
  },
  "toc": {
   "base_numbering": 1,
   "nav_menu": {},
   "number_sections": true,
   "sideBar": true,
   "skip_h1_title": false,
   "title_cell": "Table of Contents",
   "title_sidebar": "Contents",
   "toc_cell": false,
   "toc_position": {},
   "toc_section_display": true,
   "toc_window_display": false
  }
 },
 "nbformat": 4,
 "nbformat_minor": 4
}
