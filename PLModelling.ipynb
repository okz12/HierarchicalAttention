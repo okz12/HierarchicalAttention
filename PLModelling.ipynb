{
 "cells": [
  {
   "cell_type": "code",
   "execution_count": 1,
   "metadata": {},
   "outputs": [],
   "source": [
    "# ! pip install gdown pandas scikit-learn transformers nltk tqdm"
   ]
  },
  {
   "cell_type": "markdown",
   "metadata": {},
   "source": [
    "### Download Data if needed"
   ]
  },
  {
   "cell_type": "code",
   "execution_count": 8,
   "metadata": {},
   "outputs": [],
   "source": [
    "import os\n",
    "if not os.path.exists('./data'):\n",
    "    os.mkdir('./data')\n",
    "\n",
    "if not os.path.exists('./data/yahoo_answers_csv/train.csv'):\n",
    "    import gdown\n",
    "    url = 'https://drive.google.com/uc?export=download&id=0Bz8a_Dbh9Qhbd2JNdDBsQUdocVU'\n",
    "    output = './data/yahoo_answers_csv.tar.gz'\n",
    "    gdown.download(url, output, quiet=False)\n",
    "    gdown.extractall(output, './data')"
   ]
  },
  {
   "cell_type": "markdown",
   "metadata": {},
   "source": [
    "### Load Dataframe"
   ]
  },
  {
   "cell_type": "code",
   "execution_count": 9,
   "metadata": {},
   "outputs": [],
   "source": [
    "import pandas as pd\n",
    "from sklearn.model_selection import train_test_split\n",
    "\n",
    "with open ('data/yahoo_answers_csv/classes.txt') as f:\n",
    "    classes = f.read()\n",
    "rev_label_map = {i: c for i, c in enumerate(classes.split(\"\\n\")[:-1])}\n",
    "label_map = {v : i for i, v in rev_label_map.items()}\n",
    "\n",
    "def dataframe_process(df):\n",
    "    df = df.fillna('')\n",
    "    df['Text'] = 'Q. ' + df['Question'] + ' ' + df['Question Desc'] + ' A. ' + df['Answers']\n",
    "    df = df.drop(['Question', 'Question Desc', 'Answers'], axis=1)\n",
    "    df['Label'] = df['Label'] - 1\n",
    "    return df\n",
    "\n",
    "df = pd.read_csv(\"./data/yahoo_answers_csv/train.csv\", header = None, names = ['Label', 'Question', 'Question Desc','Answers'], nrows = 600000)\n",
    "df = dataframe_process(df)\n",
    "\n",
    "test = pd.read_csv(\"./data/yahoo_answers_csv/test.csv\", header = None, names = ['Label', 'Question', 'Question Desc','Answers'])\n",
    "test = dataframe_process(test)\n",
    "X_test, y_test = list(test['Text']), list(test['Label'])\n",
    "\n",
    "\n",
    "X_train, X_valid, y_train, y_valid = train_test_split(list(df['Text']), list(df['Label']), test_size=0.2)\n",
    "\n",
    "del test\n",
    "del df"
   ]
  },
  {
   "cell_type": "markdown",
   "metadata": {},
   "source": [
    "### Modelling"
   ]
  },
  {
   "cell_type": "code",
   "execution_count": 10,
   "metadata": {},
   "outputs": [],
   "source": [
    "from utils import device, train, evaluate, save_checkpoint, HANDataset\n",
    "import pytorch_lightning as pl\n",
    "from plmodel import HierarchicalAttentionNetwork, Preprocessor\n",
    "from transformers import AutoTokenizer, AutoModel\n",
    "from nltk.tokenize import PunktSentenceTokenizer\n",
    "from tqdm import tqdm\n",
    "import torch"
   ]
  },
  {
   "cell_type": "code",
   "execution_count": 11,
   "metadata": {},
   "outputs": [
    {
     "name": "stderr",
     "output_type": "stream",
     "text": [
      "100%|██████████| 480000/480000 [07:45<00:00, 1032.22it/s]\n",
      "100%|██████████| 120000/120000 [01:57<00:00, 1020.06it/s]\n",
      "100%|██████████| 60000/60000 [01:02<00:00, 963.59it/s] \n"
     ]
    }
   ],
   "source": [
    "pretrained_embedding_model = 'distilroberta-base'\n",
    "embedding_layer = AutoModel.from_pretrained(pretrained_embedding_model).get_input_embeddings()\n",
    "pre = Preprocessor(PunktSentenceTokenizer(), AutoTokenizer.from_pretrained(pretrained_embedding_model, use_fast=True))\n",
    "train_features = [pre.encode_document(x) for x in tqdm(X_train)]\n",
    "valid_features = [pre.encode_document(x) for x in tqdm(X_valid)]\n",
    "test_features = [pre.encode_document(x) for x in tqdm(X_test)]\n",
    "train_dataset = HANDataset(train_features, y_train)\n",
    "valid_dataset = HANDataset(valid_features, y_valid)\n",
    "test_dataset = HANDataset(test_features, y_test)"
   ]
  },
  {
   "cell_type": "markdown",
   "metadata": {},
   "source": [
    "### Train"
   ]
  },
  {
   "cell_type": "code",
   "execution_count": 12,
   "metadata": {},
   "outputs": [],
   "source": [
    "batch_size = 64\n",
    "lr = 1e-3\n",
    "epochs = 10\n",
    "model_filename = f\"model.pth.tar\"\n",
    "\n",
    "model = HierarchicalAttentionNetwork(n_classes = len(rev_label_map.keys()), \n",
    "                                    embedding_layer = embedding_layer,\n",
    "                                    embedding_size = 768,\n",
    "                                    fine_tune_embeddings = False, \n",
    "                                    word_rnn_size = 50, \n",
    "                                    sentence_rnn_size = 50, \n",
    "                                    word_rnn_layers = 1,\n",
    "                                    sentence_rnn_layers = 1, \n",
    "                                    word_att_size = 100, # size of the word-level attention layer (also the size of the word context vector)\n",
    "                                    sentence_att_size = 100, # size of the sentence-level attention layer (also the size of the sentence context vector)\n",
    "                                    dropout = 0.3,\n",
    "                                    train_dataset = train_dataset,\n",
    "                                    valid_dataset = valid_dataset,\n",
    "                                    test_dataset = test_dataset)"
   ]
  },
  {
   "cell_type": "code",
   "execution_count": null,
   "metadata": {},
   "outputs": [
    {
     "name": "stderr",
     "output_type": "stream",
     "text": [
      "GPU available: True, used: True\n",
      "TPU available: None, using: 0 TPU cores\n",
      "LOCAL_RANK: 0 - CUDA_VISIBLE_DEVICES: [0]\n",
      "\n",
      "  | Name               | Type              | Params\n",
      "---------------------------------------------------------\n",
      "0 | sentence_attention | SentenceAttention | 38.9 M\n",
      "1 | fc                 | Linear            | 1.0 K \n",
      "2 | dropout            | Dropout           | 0     \n",
      "---------------------------------------------------------\n",
      "313 K     Trainable params\n",
      "38.6 M    Non-trainable params\n",
      "38.9 M    Total params\n"
     ]
    },
    {
     "data": {
      "application/vnd.jupyter.widget-view+json": {
       "model_id": "4e500936bb91430a9f10e2f629b00daa",
       "version_major": 2,
       "version_minor": 0
      },
      "text/plain": [
       "HBox(children=(FloatProgress(value=1.0, bar_style='info', description='Validation sanity check', layout=Layout…"
      ]
     },
     "metadata": {},
     "output_type": "display_data"
    },
    {
     "data": {
      "application/vnd.jupyter.widget-view+json": {
       "model_id": "fd05f54e7c7b4a1886d498a1de7a2303",
       "version_major": 2,
       "version_minor": 0
      },
      "text/plain": [
       "HBox(children=(FloatProgress(value=1.0, bar_style='info', description='Training', layout=Layout(flex='2'), max…"
      ]
     },
     "metadata": {},
     "output_type": "display_data"
    },
    {
     "data": {
      "application/vnd.jupyter.widget-view+json": {
       "model_id": "",
       "version_major": 2,
       "version_minor": 0
      },
      "text/plain": [
       "HBox(children=(FloatProgress(value=1.0, bar_style='info', description='Validating', layout=Layout(flex='2'), m…"
      ]
     },
     "metadata": {},
     "output_type": "display_data"
    },
    {
     "data": {
      "application/vnd.jupyter.widget-view+json": {
       "model_id": "",
       "version_major": 2,
       "version_minor": 0
      },
      "text/plain": [
       "HBox(children=(FloatProgress(value=1.0, bar_style='info', description='Validating', layout=Layout(flex='2'), m…"
      ]
     },
     "metadata": {},
     "output_type": "display_data"
    }
   ],
   "source": [
    "trainer = pl.Trainer(gpus=1, max_epochs=3, progress_bar_refresh_rate=20)\n",
    "trainer.fit(model)"
   ]
  },
  {
   "cell_type": "code",
   "execution_count": 18,
   "metadata": {},
   "outputs": [
    {
     "name": "stderr",
     "output_type": "stream",
     "text": [
      "/opt/conda/lib/python3.8/site-packages/pytorch_lightning/utilities/distributed.py:49: UserWarning: you passed in a test_dataloader but have no test_step. Skipping test loop\n",
      "  warnings.warn(*args, **kwargs)\n"
     ]
    },
    {
     "data": {
      "text/plain": [
       "1"
      ]
     },
     "execution_count": 18,
     "metadata": {},
     "output_type": "execute_result"
    }
   ],
   "source": [
    "trainer.test()"
   ]
  },
  {
   "cell_type": "code",
   "execution_count": 15,
   "metadata": {},
   "outputs": [
    {
     "data": {
      "text/plain": [
       "['_Trainer__test_given_model',\n",
       " '_Trainer__test_using_best_weights',\n",
       " '__abstractmethods__',\n",
       " '__annotations__',\n",
       " '__class__',\n",
       " '__delattr__',\n",
       " '__dict__',\n",
       " '__dir__',\n",
       " '__doc__',\n",
       " '__eq__',\n",
       " '__format__',\n",
       " '__ge__',\n",
       " '__getattribute__',\n",
       " '__getstate__',\n",
       " '__gt__',\n",
       " '__hash__',\n",
       " '__init__',\n",
       " '__init_subclass__',\n",
       " '__le__',\n",
       " '__lt__',\n",
       " '__module__',\n",
       " '__ne__',\n",
       " '__new__',\n",
       " '__reduce__',\n",
       " '__reduce_ex__',\n",
       " '__repr__',\n",
       " '__setattr__',\n",
       " '__setstate__',\n",
       " '__sizeof__',\n",
       " '__slots__',\n",
       " '__str__',\n",
       " '__subclasshook__',\n",
       " '__weakref__',\n",
       " '_abc_impl',\n",
       " '_cache_logged_metrics',\n",
       " '_default_root_dir',\n",
       " '_device_type',\n",
       " '_distrib_type',\n",
       " '_enable_pl_optimizer',\n",
       " '_flatten_dl_only',\n",
       " '_get_distributed_sampler',\n",
       " '_is_data_prepared',\n",
       " '_progress_bar_callback',\n",
       " '_reset_eval_dataloader',\n",
       " '_reset_result_and_set_hook_fx_name',\n",
       " '_state',\n",
       " '_weights_save_path',\n",
       " '_worker_check',\n",
       " 'accelerator_backend',\n",
       " 'accelerator_connector',\n",
       " 'accumulate_grad_batches',\n",
       " 'accumulation_scheduler',\n",
       " 'add_argparse_args',\n",
       " 'amp_backend',\n",
       " 'amp_level',\n",
       " 'auto_add_sampler',\n",
       " 'auto_lr_find',\n",
       " 'auto_scale_batch_size',\n",
       " 'autocast_original_forward',\n",
       " 'available_plugins',\n",
       " 'batch_idx',\n",
       " 'benchmark',\n",
       " 'call_hook',\n",
       " 'call_setup_hook',\n",
       " 'callback_connector',\n",
       " 'callback_metrics',\n",
       " 'callbacks',\n",
       " 'check_val_every_n_epoch',\n",
       " 'checkpoint_callback',\n",
       " 'checkpoint_callbacks',\n",
       " 'checkpoint_connector',\n",
       " 'config_validator',\n",
       " 'configure_schedulers',\n",
       " 'convert_to_lightning_optimizers',\n",
       " 'current_epoch',\n",
       " 'data_connector',\n",
       " 'data_parallel',\n",
       " 'data_parallel_device_ids',\n",
       " 'datamodule',\n",
       " 'debugging_connector',\n",
       " 'default_attributes',\n",
       " 'default_root_dir',\n",
       " 'detect_nan_tensors',\n",
       " 'deterministic',\n",
       " 'dev_debugger',\n",
       " 'disable_validation',\n",
       " 'distributed_backend',\n",
       " 'distributed_sampler_kwargs',\n",
       " 'enable_validation',\n",
       " 'evaluation_loop',\n",
       " 'fast_dev_run',\n",
       " 'fit',\n",
       " 'flush_logs_every_n_steps',\n",
       " 'from_argparse_args',\n",
       " 'get_deprecated_arg_names',\n",
       " 'get_model',\n",
       " 'global_rank',\n",
       " 'global_step',\n",
       " 'gpus',\n",
       " 'gradient_clip_val',\n",
       " 'has_arg',\n",
       " 'hiddens',\n",
       " 'init_optimizers',\n",
       " 'interactive_ddp_procs',\n",
       " 'interrupted',\n",
       " 'is_function_implemented',\n",
       " 'is_global_zero',\n",
       " 'is_slurm_managing_tasks',\n",
       " 'limit_test_batches',\n",
       " 'limit_train_batches',\n",
       " 'limit_val_batches',\n",
       " 'local_rank',\n",
       " 'log_dir',\n",
       " 'log_every_n_steps',\n",
       " 'log_gpu_memory',\n",
       " 'logged_metrics',\n",
       " 'logger',\n",
       " 'logger_connector',\n",
       " 'lr_schedulers',\n",
       " 'match_env_arguments',\n",
       " 'max_epochs',\n",
       " 'max_steps',\n",
       " 'metrics_to_scalars',\n",
       " 'min_epochs',\n",
       " 'min_steps',\n",
       " 'model',\n",
       " 'model_connector',\n",
       " 'move_metrics_to_cpu',\n",
       " 'node_rank',\n",
       " 'num_gpus',\n",
       " 'num_nodes',\n",
       " 'num_processes',\n",
       " 'num_sanity_val_batches',\n",
       " 'num_sanity_val_steps',\n",
       " 'num_test_batches',\n",
       " 'num_training_batches',\n",
       " 'num_val_batches',\n",
       " 'on_after_backward',\n",
       " 'on_batch_end',\n",
       " 'on_batch_start',\n",
       " 'on_before_zero_grad',\n",
       " 'on_colab_kaggle',\n",
       " 'on_cpu',\n",
       " 'on_epoch_end',\n",
       " 'on_epoch_start',\n",
       " 'on_fit_end',\n",
       " 'on_fit_start',\n",
       " 'on_gpu',\n",
       " 'on_init_end',\n",
       " 'on_init_start',\n",
       " 'on_keyboard_interrupt',\n",
       " 'on_load_checkpoint',\n",
       " 'on_pretrain_routine_end',\n",
       " 'on_pretrain_routine_start',\n",
       " 'on_sanity_check_end',\n",
       " 'on_sanity_check_start',\n",
       " 'on_save_checkpoint',\n",
       " 'on_test_batch_end',\n",
       " 'on_test_batch_start',\n",
       " 'on_test_end',\n",
       " 'on_test_epoch_end',\n",
       " 'on_test_epoch_start',\n",
       " 'on_test_start',\n",
       " 'on_tpu',\n",
       " 'on_train_batch_end',\n",
       " 'on_train_batch_start',\n",
       " 'on_train_end',\n",
       " 'on_train_epoch_end',\n",
       " 'on_train_epoch_start',\n",
       " 'on_train_start',\n",
       " 'on_validation_batch_end',\n",
       " 'on_validation_batch_start',\n",
       " 'on_validation_end',\n",
       " 'on_validation_epoch_end',\n",
       " 'on_validation_epoch_start',\n",
       " 'on_validation_start',\n",
       " 'optimizer_connector',\n",
       " 'optimizer_frequencies',\n",
       " 'optimizers',\n",
       " 'overfit_batches',\n",
       " 'overriden_optimizer_step',\n",
       " 'overriden_optimizer_zero_grad',\n",
       " 'parse_argparser',\n",
       " 'plugin_connector',\n",
       " 'precision',\n",
       " 'precision_connector',\n",
       " 'prepare_data_per_node',\n",
       " 'print_nan_gradients',\n",
       " 'process_dict_result',\n",
       " 'profile_connector',\n",
       " 'profiler',\n",
       " 'progress_bar_callback',\n",
       " 'progress_bar_dict',\n",
       " 'progress_bar_metrics',\n",
       " 'reduce_distributed_output',\n",
       " 'reinit_scheduler_properties',\n",
       " 'reload_dataloaders_every_epoch',\n",
       " 'replace_sampler',\n",
       " 'replace_sampler_ddp',\n",
       " 'request_dataloader',\n",
       " 'require_distributed_sampler',\n",
       " 'reset_test_dataloader',\n",
       " 'reset_train_dataloader',\n",
       " 'reset_val_dataloader',\n",
       " 'resume_from_checkpoint',\n",
       " 'root_device',\n",
       " 'root_gpu',\n",
       " 'run_evaluation',\n",
       " 'run_sanity_check',\n",
       " 'run_test',\n",
       " 'running_sanity_check',\n",
       " 'save_checkpoint',\n",
       " 'scaler',\n",
       " 'setup',\n",
       " 'should_stop',\n",
       " 'shown_warnings',\n",
       " 'slurm_connector',\n",
       " 'slurm_job_id',\n",
       " 'split_idx',\n",
       " 'state',\n",
       " 'sync_batchnorm',\n",
       " 'teardown',\n",
       " 'terminate_on_nan',\n",
       " 'test',\n",
       " 'test_dataloaders',\n",
       " 'tested_ckpt_path',\n",
       " 'testing',\n",
       " 'total_batch_idx',\n",
       " 'tpu_cores',\n",
       " 'tpu_global_core_rank',\n",
       " 'tpu_id',\n",
       " 'tpu_local_core_rank',\n",
       " 'track_grad_norm',\n",
       " 'track_output_for_epoch_end',\n",
       " 'train',\n",
       " 'train_dataloader',\n",
       " 'train_loop',\n",
       " 'training_tricks_connector',\n",
       " 'truncated_bptt_steps',\n",
       " 'tune',\n",
       " 'tuner',\n",
       " 'use_amp',\n",
       " 'use_ddp',\n",
       " 'use_ddp2',\n",
       " 'use_dp',\n",
       " 'use_horovod',\n",
       " 'use_single_gpu',\n",
       " 'use_tpu',\n",
       " 'val_check_batch',\n",
       " 'val_check_interval',\n",
       " 'val_dataloaders',\n",
       " 'verbose_test',\n",
       " 'weights_save_path',\n",
       " 'weights_summary',\n",
       " 'world_size']"
      ]
     },
     "execution_count": 15,
     "metadata": {},
     "output_type": "execute_result"
    }
   ],
   "source": [
    "dir(trainer)"
   ]
  }
 ],
 "metadata": {
  "kernelspec": {
   "display_name": "Python 3",
   "language": "python",
   "name": "python3"
  },
  "language_info": {
   "codemirror_mode": {
    "name": "ipython",
    "version": 3
   },
   "file_extension": ".py",
   "mimetype": "text/x-python",
   "name": "python",
   "nbconvert_exporter": "python",
   "pygments_lexer": "ipython3",
   "version": "3.8.3"
  },
  "toc": {
   "base_numbering": 1,
   "nav_menu": {},
   "number_sections": true,
   "sideBar": true,
   "skip_h1_title": false,
   "title_cell": "Table of Contents",
   "title_sidebar": "Contents",
   "toc_cell": false,
   "toc_position": {},
   "toc_section_display": true,
   "toc_window_display": false
  }
 },
 "nbformat": 4,
 "nbformat_minor": 4
}
