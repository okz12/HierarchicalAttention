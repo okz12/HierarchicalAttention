{
 "cells": [
  {
   "cell_type": "code",
   "execution_count": 1,
   "metadata": {},
   "outputs": [],
   "source": [
    "# ! pip install gdown pandas scikit-learn transformers nltk tqdm"
   ]
  },
  {
   "cell_type": "markdown",
   "metadata": {},
   "source": [
    "### Download Data if needed"
   ]
  },
  {
   "cell_type": "code",
   "execution_count": 2,
   "metadata": {},
   "outputs": [],
   "source": [
    "import os\n",
    "if not os.path.exists('./data'):\n",
    "    os.mkdir('./data')\n",
    "\n",
    "if not os.path.exists('./data/yahoo_answers_csv/train.csv'):\n",
    "    import gdown\n",
    "    url = 'https://drive.google.com/uc?export=download&id=0Bz8a_Dbh9Qhbd2JNdDBsQUdocVU'\n",
    "    output = './data/yahoo_answers_csv.tar.gz'\n",
    "    gdown.download(url, output, quiet=False)\n",
    "    gdown.extractall(output, './data')"
   ]
  },
  {
   "cell_type": "markdown",
   "metadata": {},
   "source": [
    "### Load Dataframe"
   ]
  },
  {
   "cell_type": "code",
   "execution_count": 3,
   "metadata": {},
   "outputs": [],
   "source": [
    "import pandas as pd\n",
    "from sklearn.model_selection import train_test_split\n",
    "\n",
    "with open ('data/yahoo_answers_csv/classes.txt') as f:\n",
    "    classes = f.read()\n",
    "rev_label_map = {i: c for i, c in enumerate(classes.split(\"\\n\")[:-1])}\n",
    "label_map = {v : i for i, v in rev_label_map.items()}\n",
    "\n",
    "def dataframe_process(df):\n",
    "    df = df.fillna('')\n",
    "    df['Text'] = 'Q. ' + df['Question'] + ' ' + df['Question Desc'] + ' A. ' + df['Answers']\n",
    "    df = df.drop(['Question', 'Question Desc', 'Answers'], axis=1)\n",
    "    df['Label'] = df['Label'] - 1\n",
    "    return df\n",
    "\n",
    "df = pd.read_csv(\"./data/yahoo_answers_csv/train.csv\", header = None, names = ['Label', 'Question', 'Question Desc','Answers'], nrows = 60000)\n",
    "df = dataframe_process(df)\n",
    "\n",
    "test = pd.read_csv(\"./data/yahoo_answers_csv/test.csv\", header = None, names = ['Label', 'Question', 'Question Desc','Answers'], nrows = 10000)\n",
    "test = dataframe_process(test)\n",
    "X_test, y_test = list(test['Text']), list(test['Label'])\n",
    "\n",
    "\n",
    "X_train, X_valid, y_train, y_valid = train_test_split(list(df['Text']), list(df['Label']), test_size=0.2)\n",
    "\n",
    "del test\n",
    "del df"
   ]
  },
  {
   "cell_type": "markdown",
   "metadata": {},
   "source": [
    "### Modelling"
   ]
  },
  {
   "cell_type": "code",
   "execution_count": 4,
   "metadata": {},
   "outputs": [],
   "source": [
    "from utils import device, train, evaluate, save_checkpoint, HANDataset\n",
    "from plmodel import HierarchicalAttentionNetwork, Preprocessor\n",
    "from transformers import AutoTokenizer, AutoModel\n",
    "from nltk.tokenize import PunktSentenceTokenizer\n",
    "from tqdm import tqdm\n",
    "import torch"
   ]
  },
  {
   "cell_type": "code",
   "execution_count": 5,
   "metadata": {},
   "outputs": [
    {
     "name": "stderr",
     "output_type": "stream",
     "text": [
      "100%|██████████| 48000/48000 [01:00<00:00, 794.46it/s]\n",
      "100%|██████████| 12000/12000 [00:14<00:00, 809.38it/s]\n"
     ]
    }
   ],
   "source": [
    "pretrained_embedding_model = 'distilroberta-base'\n",
    "pre = Preprocessor(PunktSentenceTokenizer(), AutoTokenizer.from_pretrained(pretrained_embedding_model, use_fast=True))\n",
    "train_features = [pre.encode_document(x) for x in tqdm(X_train)]\n",
    "valid_features = [pre.encode_document(x) for x in tqdm(X_valid)]\n",
    "test_features = [pre.encode_document(x) for x in tqdm(X_test)]\n",
    "train_dataset = HANDataset(train_features, y_train)\n",
    "valid_dataset = HANDataset(valid_features, y_valid)\n",
    "test_dataset = HANDataset(test_features, y_test)"
   ]
  },
  {
   "cell_type": "markdown",
   "metadata": {},
   "source": [
    "### Train"
   ]
  },
  {
   "cell_type": "code",
   "execution_count": 6,
   "metadata": {},
   "outputs": [
    {
     "name": "stderr",
     "output_type": "stream",
     "text": [
      "/opt/conda/lib/python3.8/site-packages/torch/nn/modules/rnn.py:58: UserWarning: dropout option adds dropout after all but last recurrent layer, so non-zero dropout expects num_layers greater than 1, but got dropout=0.3 and num_layers=1\n",
      "  warnings.warn(\"dropout option adds dropout after all but last \"\n"
     ]
    },
    {
     "name": "stdout",
     "output_type": "stream",
     "text": [
      "Epoch: 0\tTime 35.616\tLoss 1.3120\tAccuracy 0.556\n",
      "\n",
      " * TEST ACCURACY - 64.1 per cent\n",
      "\n",
      "Epoch: 1\tTime 35.424\tLoss 1.0539\tAccuracy 0.643\n",
      "\n",
      " * TEST ACCURACY - 65.9 per cent\n",
      "\n",
      "Epoch: 2\tTime 35.244\tLoss 1.0092\tAccuracy 0.655\n",
      "\n",
      " * TEST ACCURACY - 66.3 per cent\n",
      "\n",
      "Epoch: 3\tTime 35.484\tLoss 0.9717\tAccuracy 0.667\n",
      "\n",
      " * TEST ACCURACY - 66.4 per cent\n",
      "\n",
      "Epoch: 4\tTime 35.200\tLoss 0.9491\tAccuracy 0.676\n",
      "\n",
      " * TEST ACCURACY - 66.8 per cent\n",
      "\n",
      "Epoch: 5\tTime 35.176\tLoss 0.9244\tAccuracy 0.681\n",
      "\n",
      " * TEST ACCURACY - 66.8 per cent\n",
      "\n",
      "Epoch: 6\tTime 35.532\tLoss 0.9040\tAccuracy 0.688\n",
      "\n",
      " * TEST ACCURACY - 66.8 per cent\n",
      "\n",
      "Epoch: 7\tTime 35.977\tLoss 0.8807\tAccuracy 0.697\n",
      "\n",
      " * TEST ACCURACY - 66.9 per cent\n",
      "\n",
      "Epoch: 8\tTime 35.152\tLoss 0.8623\tAccuracy 0.703\n",
      "\n",
      " * TEST ACCURACY - 67.2 per cent\n",
      "\n",
      "Epoch: 9\tTime 35.161\tLoss 0.8479\tAccuracy 0.706\n",
      "\n",
      " * TEST ACCURACY - 66.7 per cent\n",
      "\n"
     ]
    }
   ],
   "source": [
    "batch_size = 64\n",
    "lr = 1e-3\n",
    "epochs = 10\n",
    "model_filename = f\"model.pth.tar\"\n",
    "\n",
    "model = HierarchicalAttentionNetwork(n_classes = len(rev_label_map.keys()), \n",
    "                                    embedding_layer = AutoModel.from_pretrained(pretrained_embedding_model).get_input_embeddings(),\n",
    "                                    embedding_size = 768,\n",
    "                                    fine_tune_embeddings = False, \n",
    "                                    word_rnn_size = 50, \n",
    "                                    sentence_rnn_size = 50, \n",
    "                                    word_rnn_layers = 1,\n",
    "                                    sentence_rnn_layers = 1, \n",
    "                                    word_att_size = 100, # size of the word-level attention layer (also the size of the word context vector)\n",
    "                                    sentence_att_size = 100, # size of the sentence-level attention layer (also the size of the sentence context vector)\n",
    "                                    dropout = 0.3,\n",
    "                                    train_dataset = train_dataset,\n",
    "                                    valid_dataset = valid_dataset,\n",
    "                                    test_dataset = test_dataset)\n",
    "\n",
    "\n",
    "optimizer = torch.optim.Adam(params=filter(lambda p: p.requires_grad, model.parameters()), lr=lr)\n",
    "criterion = torch.nn.CrossEntropyLoss()\n",
    "train_loader = torch.utils.data.DataLoader(train_dataset, batch_size=batch_size, shuffle=True)\n",
    "valid_loader = torch.utils.data.DataLoader(valid_dataset, batch_size=batch_size, shuffle=False)\n",
    "\n",
    "model.to(device)\n",
    "            \n",
    "for epoch in range(epochs):\n",
    "    train(train_loader, model, criterion, optimizer, epoch)\n",
    "    evaluate(valid_loader, model)\n",
    "#     save_checkpoint(epoch, model, optimizer, pretrained_embedding_model, rev_label_map, model_filename)"
   ]
  }
 ],
 "metadata": {
  "kernelspec": {
   "display_name": "Python 3",
   "language": "python",
   "name": "python3"
  },
  "language_info": {
   "codemirror_mode": {
    "name": "ipython",
    "version": 3
   },
   "file_extension": ".py",
   "mimetype": "text/x-python",
   "name": "python",
   "nbconvert_exporter": "python",
   "pygments_lexer": "ipython3",
   "version": "3.7.6"
  },
  "toc": {
   "base_numbering": 1,
   "nav_menu": {},
   "number_sections": true,
   "sideBar": true,
   "skip_h1_title": false,
   "title_cell": "Table of Contents",
   "title_sidebar": "Contents",
   "toc_cell": false,
   "toc_position": {},
   "toc_section_display": true,
   "toc_window_display": false
  }
 },
 "nbformat": 4,
 "nbformat_minor": 4
}
