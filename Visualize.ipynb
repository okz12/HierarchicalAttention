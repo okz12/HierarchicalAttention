{
 "cells": [
  {
   "cell_type": "code",
   "execution_count": 101,
   "metadata": {
    "ExecuteTime": {
     "end_time": "2021-01-14T15:09:51.794115Z",
     "start_time": "2021-01-14T15:09:51.787848Z"
    }
   },
   "outputs": [],
   "source": [
    "document = {\n",
    "    'classification': 'Finance',\n",
    "    'score': 0.7,\n",
    "    'lines': [\n",
    "        {\n",
    "            'score': 0.85,\n",
    "            'tokens': [\n",
    "                {'text': 'This', 'score': 0.20},\n",
    "                {'text': 'is', 'score': 0.30},\n",
    "                {'text': 'a', 'score': 0.40},\n",
    "                {'text': 'test', 'score': 0.60},\n",
    "                {'text': 'example', 'score': 0.70}\n",
    "            ]\n",
    "        },\n",
    "        {\n",
    "            'score': 0.25,\n",
    "            'tokens': [\n",
    "                {'text': 'Can', 'score': 0.90},\n",
    "                {'text': 'it', 'score': 0.60},\n",
    "                {'text': 'display', 'score': 0.30},\n",
    "                {'text': 'well?', 'score': 0.20}\n",
    "            ]\n",
    "        }\n",
    "    ]\n",
    "}"
   ]
  },
  {
   "cell_type": "code",
   "execution_count": 102,
   "metadata": {
    "ExecuteTime": {
     "end_time": "2021-01-14T15:09:51.928207Z",
     "start_time": "2021-01-14T15:09:51.923266Z"
    },
    "scrolled": true
   },
   "outputs": [
    {
     "data": {
      "application/javascript": [
       "\n",
       "    require.config({\n",
       "        paths: {\n",
       "        d3: 'https://d3js.org/d3.v6.min'\n",
       "    }});\n",
       "\n",
       "    function outputHAN(element, doc) {\n",
       "         require(['d3'], function(d3) {\n",
       "             d3.select(element.get(0)).append('h3').text(`Prediction: ${doc['classification']} - ${doc['score']}`)\n",
       "             d3.select(element.get(0)).append('br')\n",
       "             for (const line of doc['lines']){\n",
       "                 let thisdiv = d3.select(element.get(0)).append('div')\n",
       "                thisdiv.append('div')\n",
       "                 .style('height', '20px')\n",
       "                 .style('width', '20px')\n",
       "                 .style('background-color', d3.interpolateReds(0.6 * line['score']))\n",
       "                 .style('display', 'inline-block')\n",
       "                 .style('margin-right', '4px')\n",
       "                 .style('vertical-align', 'middle')\n",
       "                 for (const token of line['tokens']){\n",
       "                     thisdiv\n",
       "                         .append('span')\n",
       "                         .text(token['text'])\n",
       "                         .style('background-color', d3.interpolateBlues(0.6*token['score']))\n",
       "                         .style('margin', '2px')\n",
       "                         .style('padding', '2px')\n",
       "                         \n",
       "                }\n",
       "             }\n",
       "         })\n",
       "     };\n",
       "     outputHAN(element, {\"classification\": \"Finance\", \"score\": 0.7, \"lines\": [{\"score\": 0.85, \"tokens\": [{\"text\": \"This\", \"score\": 0.2}, {\"text\": \"is\", \"score\": 0.3}, {\"text\": \"a\", \"score\": 0.4}, {\"text\": \"test\", \"score\": 0.6}, {\"text\": \"example\", \"score\": 0.7}]}, {\"score\": 0.25, \"tokens\": [{\"text\": \"Can\", \"score\": 0.9}, {\"text\": \"it\", \"score\": 0.6}, {\"text\": \"display\", \"score\": 0.3}, {\"text\": \"well?\", \"score\": 0.2}]}]});\n",
       "     "
      ],
      "text/plain": [
       "<IPython.core.display.Javascript object>"
      ]
     },
     "metadata": {},
     "output_type": "display_data"
    }
   ],
   "source": [
    "from IPython.display import Javascript, display\n",
    "import json\n",
    "\n",
    "def output_doc(doc) -> None:\n",
    "    display(Javascript(\"\"\"\n",
    "    require.config({\n",
    "        paths: {\n",
    "        d3: 'https://d3js.org/d3.v6.min'\n",
    "    }});\n",
    "\n",
    "    function outputHAN(element, doc) {\n",
    "         require(['d3'], function(d3) {\n",
    "             d3.select(element.get(0)).append('h3').text(`Prediction: ${doc['classification']} - ${doc['score']}`)\n",
    "             d3.select(element.get(0)).append('br')\n",
    "             for (const line of doc['lines']){\n",
    "                 let thisdiv = d3.select(element.get(0)).append('div')\n",
    "                thisdiv.append('div')\n",
    "                 .style('height', '20px')\n",
    "                 .style('width', '20px')\n",
    "                 .style('background-color', d3.interpolateReds(0.6 * line['score']))\n",
    "                 .style('display', 'inline-block')\n",
    "                 .style('margin-right', '4px')\n",
    "                 .style('vertical-align', 'middle')\n",
    "                 for (const token of line['tokens']){\n",
    "                     thisdiv\n",
    "                         .append('span')\n",
    "                         .text(token['text'])\n",
    "                         .style('background-color', d3.interpolateBlues(0.6*token['score']))\n",
    "                         .style('margin', '2px')\n",
    "                         .style('padding', '2px')\n",
    "                         \n",
    "                }\n",
    "             }\n",
    "         })\n",
    "     };\n",
    "     outputHAN(element, %s);\n",
    "     \"\"\" % json.dumps(doc)))\n",
    "    \n",
    "output_doc(document)"
   ]
  },
  {
   "cell_type": "code",
   "execution_count": 24,
   "metadata": {
    "ExecuteTime": {
     "end_time": "2021-01-12T18:20:32.432788Z",
     "start_time": "2021-01-12T18:20:29.448444Z"
    }
   },
   "outputs": [
    {
     "data": {
      "text/plain": [
       "_IncompatibleKeys(missing_keys=['sentence_attention.word_attention.embeddings.weight'], unexpected_keys=[])"
      ]
     },
     "execution_count": 24,
     "metadata": {},
     "output_type": "execute_result"
    }
   ],
   "source": [
    "from utils import HANDataset\n",
    "import pytorch_lightning as pl\n",
    "from model import HierarchicalAttentionNetwork, Preprocessor\n",
    "from transformers import AutoTokenizer, AutoModel\n",
    "from nltk.tokenize import PunktSentenceTokenizer\n",
    "from tqdm import tqdm\n",
    "import torch\n",
    "\n",
    "pretrained_embedding_model = 'distilroberta-base'\n",
    "embedding_layer = AutoModel.from_pretrained(pretrained_embedding_model).get_input_embeddings()\n",
    "pre = Preprocessor(PunktSentenceTokenizer(), AutoTokenizer.from_pretrained(pretrained_embedding_model, use_fast=True))\n",
    "\n",
    "model = HierarchicalAttentionNetwork(n_classes = 10, \n",
    "                                    embedding_layer = embedding_layer,\n",
    "                                    embedding_size = 768,\n",
    "                                    fine_tune_embeddings = False, \n",
    "                                    word_rnn_size = 50, \n",
    "                                    sentence_rnn_size = 50, \n",
    "                                    word_rnn_layers = 1,\n",
    "                                    sentence_rnn_layers = 1, \n",
    "                                    word_att_size = 100, # size of the word-level attention layer (also the size of the word context vector)\n",
    "                                    sentence_att_size = 100, # size of the sentence-level attention layer (also the size of the sentence context vector)\n",
    "                                    dropout = 0.3)\n",
    "model.load_state_dict(torch.load('model.pth', map_location = 'cpu'), strict = False)"
   ]
  },
  {
   "cell_type": "code",
   "execution_count": 48,
   "metadata": {
    "ExecuteTime": {
     "end_time": "2021-01-13T14:25:39.719192Z",
     "start_time": "2021-01-13T14:25:39.035258Z"
    }
   },
   "outputs": [],
   "source": [
    "import pandas as pd\n",
    "from sklearn.model_selection import train_test_split\n",
    "\n",
    "with open ('data/yahoo_answers_csv/classes.txt') as f:\n",
    "    classes = f.read()\n",
    "rev_label_map = {i: c for i, c in enumerate(classes.split(\"\\n\")[:-1])}\n",
    "\n",
    "def dataframe_process(df):\n",
    "    df = df.fillna('')\n",
    "    df['Text'] = 'Q. ' + df['Question'] + ' ' + df['Question Desc'] + ' A. ' + df['Answers']\n",
    "    df = df.drop(['Question', 'Question Desc', 'Answers'], axis=1)\n",
    "    df['Label'] = df['Label'] - 1\n",
    "    return df\n",
    "test = pd.read_csv(\"./data/yahoo_answers_csv/test.csv\", header = None, names = ['Label', 'Question', 'Question Desc','Answers'])\n",
    "test = dataframe_process(test)\n",
    "X_test, y_test = list(test['Text']), list(test['Label'])"
   ]
  },
  {
   "cell_type": "code",
   "execution_count": 113,
   "metadata": {
    "ExecuteTime": {
     "end_time": "2021-01-14T15:17:10.230569Z",
     "start_time": "2021-01-14T15:17:07.184958Z"
    }
   },
   "outputs": [],
   "source": [
    "from __future__ import annotations\n",
    "pretrained_embedding_model = 'distilroberta-base'\n",
    "embedding_layer = AutoModel.from_pretrained(pretrained_embedding_model).get_input_embeddings()\n",
    "pre = Preprocessor(PunktSentenceTokenizer(), AutoTokenizer.from_pretrained(pretrained_embedding_model, use_fast=True))\n",
    "\n",
    "from typing import Dict, Any\n",
    "def inference(model: model.HierarchicalAttentionNetwork,\n",
    "              pre: model.preprocessor,\n",
    "              rev_label_map: Dict[int, str],\n",
    "              sample: str) -> Dict[Any]:\n",
    "    doc, sentences_in_doc, words_in_each_sentence = pre.encode_document(sample, max_words=70, max_sentences=len(pre.sentence_tokenizer.tokenize(sample)))\n",
    "    doc = torch.LongTensor(doc).unsqueeze(0)\n",
    "    sentences_in_doc = torch.LongTensor([sentences_in_doc])\n",
    "    words_in_each_sentence = words_in_each_sentence.unsqueeze(0)\n",
    "\n",
    "    scores, word_alphas, sentence_alphas = model(doc, sentences_in_doc, words_in_each_sentence)\n",
    "\n",
    "    score, prediction_index = scores.max(dim=1)\n",
    "    score = float(score.exp()/scores.exp().sum())\n",
    "    prediction = rev_label_map[prediction_index.item()]\n",
    "    sen_len_norm = (words_in_each_sentence.unsqueeze(1).float() / words_in_each_sentence.max().float()).squeeze(0).squeeze(0)\n",
    "    sentence_alphas = sentence_alphas * sen_len_norm\n",
    "    alphas = torch.bmm(sentence_alphas.squeeze(0).unsqueeze(1).unsqueeze(1) , word_alphas.squeeze(0).unsqueeze(1)).squeeze(1)\n",
    "    alphas = alphas.to('cpu')\n",
    "\n",
    "    document = {\n",
    "        'classification': prediction,\n",
    "        'score': round(score, 2),\n",
    "        'lines': []\n",
    "    }\n",
    "\n",
    "    for s, sentence in enumerate(doc.squeeze(0)):\n",
    "        sentence_factor = sentence_alphas.squeeze(0)[s].item() / sentence_alphas.squeeze(0).max().item()\n",
    "        sentence_decoded = pre.word_tokenizer.convert_ids_to_tokens(sentence, skip_special_tokens=True)    \n",
    "        line = {\n",
    "            'score': sentence_factor,\n",
    "            'tokens': []\n",
    "        }\n",
    "        for w, word in enumerate(sentence_decoded):\n",
    "            word_factor = alphas[s, w].item() / alphas.max().item()\n",
    "            line['tokens'].append({'text': word.replace(\"Ġ\", \"\"), 'score': word_factor})\n",
    "        document['lines'].append(line)\n",
    "    return document"
   ]
  },
  {
   "cell_type": "code",
   "execution_count": 118,
   "metadata": {
    "ExecuteTime": {
     "end_time": "2021-01-14T15:20:03.458639Z",
     "start_time": "2021-01-14T15:20:03.239622Z"
    },
    "scrolled": false
   },
   "outputs": [
    {
     "data": {
      "application/javascript": [
       "\n",
       "    require.config({\n",
       "        paths: {\n",
       "        d3: 'https://d3js.org/d3.v6.min'\n",
       "    }});\n",
       "\n",
       "    function outputHAN(element, doc) {\n",
       "         require(['d3'], function(d3) {\n",
       "             d3.select(element.get(0)).append('h3').text(`Prediction: ${doc['classification']} - ${doc['score']}`)\n",
       "             d3.select(element.get(0)).append('br')\n",
       "             for (const line of doc['lines']){\n",
       "                 let thisdiv = d3.select(element.get(0)).append('div')\n",
       "                thisdiv.append('div')\n",
       "                 .style('height', '20px')\n",
       "                 .style('width', '20px')\n",
       "                 .style('background-color', d3.interpolateReds(0.6 * line['score']))\n",
       "                 .style('display', 'inline-block')\n",
       "                 .style('margin-right', '4px')\n",
       "                 .style('vertical-align', 'middle')\n",
       "                 for (const token of line['tokens']){\n",
       "                     thisdiv\n",
       "                         .append('span')\n",
       "                         .text(token['text'])\n",
       "                         .style('background-color', d3.interpolateBlues(0.6*token['score']))\n",
       "                         .style('margin', '2px')\n",
       "                         .style('padding', '2px')\n",
       "                         \n",
       "                }\n",
       "             }\n",
       "         })\n",
       "     };\n",
       "     outputHAN(element, {\"classification\": \"Health\", \"score\": 0.87, \"lines\": [{\"score\": 0.4769253175688373, \"tokens\": [{\"text\": \"Q\", \"score\": 0.1643087672116793}, {\"text\": \".\", \"score\": 0.07824852739521684}, {\"text\": \"What\", \"score\": 0.04546558643119861}, {\"text\": \"exercise\", \"score\": 0.76793395533215}, {\"text\": \"??\", \"score\": 0.3334965998129158}]}, {\"score\": 1.0, \"tokens\": [{\"text\": \"To\", \"score\": 0.16755369623847044}, {\"text\": \"get\", \"score\": 0.029251273246188068}, {\"text\": \"into\", \"score\": 0.021576590814981034}, {\"text\": \"using\", \"score\": 0.04525546603471696}, {\"text\": \"a\", \"score\": 0.05260555177905008}, {\"text\": \"compound\", \"score\": 0.3178133209213632}, {\"text\": \"bow\", \"score\": 0.9201107064456925}, {\"text\": \"again\", \"score\": 0.022781219385598805}, {\"text\": \",\", \"score\": 0.008770490562794735}, {\"text\": \"could\", \"score\": 0.014621019581815994}, {\"text\": \"anyone\", \"score\": 0.005249970932680367}, {\"text\": \"suggest\", \"score\": 0.05490776017040187}, {\"text\": \"an\", \"score\": 0.008228521171572994}, {\"text\": \"exercise\", \"score\": 1.0}, {\"text\": \"suitable\", \"score\": 0.17606627726836777}, {\"text\": \"??\", \"score\": 0.06856442417833433}]}, {\"score\": 0.2052228130798403, \"tokens\": [{\"text\": \"A\", \"score\": 0.03746859985951028}, {\"text\": \".\", \"score\": 0.032550522455832696}, {\"text\": \"Dumb\", \"score\": 0.029169822015992185}, {\"text\": \"bell\", \"score\": 0.09122635370062529}, {\"text\": \"Fly\", \"score\": 0.07612885913783278}, {\"text\": \"es\", \"score\": 0.02330381346814002}, {\"text\": \"and\", \"score\": 0.014075221212138674}, {\"text\": \"Tr\", \"score\": 0.036540587148393866}, {\"text\": \"iceps\", \"score\": 0.24096668564523316}, {\"text\": \"Extensions\", \"score\": 0.016456691877861307}]}]});\n",
       "     "
      ],
      "text/plain": [
       "<IPython.core.display.Javascript object>"
      ]
     },
     "metadata": {},
     "output_type": "display_data"
    },
    {
     "data": {
      "application/javascript": [
       "\n",
       "    require.config({\n",
       "        paths: {\n",
       "        d3: 'https://d3js.org/d3.v6.min'\n",
       "    }});\n",
       "\n",
       "    function outputHAN(element, doc) {\n",
       "         require(['d3'], function(d3) {\n",
       "             d3.select(element.get(0)).append('h3').text(`Prediction: ${doc['classification']} - ${doc['score']}`)\n",
       "             d3.select(element.get(0)).append('br')\n",
       "             for (const line of doc['lines']){\n",
       "                 let thisdiv = d3.select(element.get(0)).append('div')\n",
       "                thisdiv.append('div')\n",
       "                 .style('height', '20px')\n",
       "                 .style('width', '20px')\n",
       "                 .style('background-color', d3.interpolateReds(0.6 * line['score']))\n",
       "                 .style('display', 'inline-block')\n",
       "                 .style('margin-right', '4px')\n",
       "                 .style('vertical-align', 'middle')\n",
       "                 for (const token of line['tokens']){\n",
       "                     thisdiv\n",
       "                         .append('span')\n",
       "                         .text(token['text'])\n",
       "                         .style('background-color', d3.interpolateBlues(0.6*token['score']))\n",
       "                         .style('margin', '2px')\n",
       "                         .style('padding', '2px')\n",
       "                         \n",
       "                }\n",
       "             }\n",
       "         })\n",
       "     };\n",
       "     outputHAN(element, {\"classification\": \"Politics & Government\", \"score\": 0.33, \"lines\": [{\"score\": 1.0, \"tokens\": [{\"text\": \"Q\", \"score\": 0.3039547216107708}, {\"text\": \".\", \"score\": 0.34532507483378916}, {\"text\": \"For\", \"score\": 0.17947483846437376}, {\"text\": \"th\", \"score\": 0.24432460808853027}, {\"text\": \"oes\", \"score\": 0.1912256184319287}, {\"text\": \"of\", \"score\": 0.1315805348282476}, {\"text\": \"you\", \"score\": 0.41707976336358815}, {\"text\": \"that\", \"score\": 0.37625085347467085}, {\"text\": \"don\", \"score\": 0.3253406946804667}, {\"text\": \"'t\", \"score\": 0.20238515634858303}, {\"text\": \"smoke\", \"score\": 0.45904299274445437}, {\"text\": \"marijuana\", \"score\": 0.914062204856743}, {\"text\": \",\", \"score\": 0.10345578859951716}, {\"text\": \"wh\", \"score\": 0.049418309165722485}, {\"text\": \"ould\", \"score\": 0.10267644422095032}, {\"text\": \"you\", \"score\": 0.15368748142241975}, {\"text\": \"if\", \"score\": 0.1045762251065964}, {\"text\": \"it\", \"score\": 0.15150745811950075}, {\"text\": \"were\", \"score\": 0.2900629568782996}, {\"text\": \"legal\", \"score\": 1.0}, {\"text\": \"?\", \"score\": 0.43313813233430126}]}, {\"score\": 0.007520045828711063, \"tokens\": [{\"text\": \"A\", \"score\": 0.008177288410293124}, {\"text\": \".\", \"score\": 0.01048254160297804}, {\"text\": \"Sure\", \"score\": 0.008248093364174194}, {\"text\": \".\", \"score\": 0.02181121651285566}]}, {\"score\": 0.0475642899200366, \"tokens\": [{\"text\": \"Its\", \"score\": 0.014131596758186626}, {\"text\": \"less\", \"score\": 0.008750157144310034}, {\"text\": \"addictive\", \"score\": 0.10552882636666457}, {\"text\": \"then\", \"score\": 0.008721993034106748}, {\"text\": \"c\", \"score\": 0.007018441734725836}, {\"text\": \"igg\", \"score\": 0.005721683962857801}, {\"text\": \"arettes\", \"score\": 0.01324389325924791}, {\"text\": \"and\", \"score\": 0.0025829953311210293}, {\"text\": \"less\", \"score\": 0.008106469608048093}, {\"text\": \"harmful\", \"score\": 0.02026317195447057}, {\"text\": \"then\", \"score\": 0.01121635688845874}, {\"text\": \"ca\", \"score\": 0.0147114580504805}, {\"text\": \"ff\", \"score\": 0.009973630672386817}, {\"text\": \"i\", \"score\": 0.017673155719202596}, {\"text\": \"ene\", \"score\": 0.02501184692915853}, {\"text\": \".\", \"score\": 0.03549288598464693}]}, {\"score\": 0.01954561069652609, \"tokens\": [{\"text\": \"You\", \"score\": 0.01449909771677038}, {\"text\": \"can\", \"score\": 0.005221088109301703}, {\"text\": \"'t\", \"score\": 0.0038703706200255983}, {\"text\": \"overdose\", \"score\": 0.023888343009462198}, {\"text\": \"on\", \"score\": 0.0020298373630133685}, {\"text\": \"it\", \"score\": 0.0032967458518887564}, {\"text\": \"and\", \"score\": 0.0017532037428361028}, {\"text\": \"you\", \"score\": 0.003401889338873011}, {\"text\": \"have\", \"score\": 0.0019847040302035032}, {\"text\": \"to\", \"score\": 0.0018398869279005426}, {\"text\": \"really\", \"score\": 0.0027276237494650375}, {\"text\": \"smoke\", \"score\": 0.010329244541556558}, {\"text\": \"a\", \"score\": 0.001454052899240855}, {\"text\": \"LOT\", \"score\": 0.009140541658814644}, {\"text\": \"to\", \"score\": 0.0015798242816756675}, {\"text\": \"do\", \"score\": 0.0019147262996883454}, {\"text\": \"any\", \"score\": 0.0012456126262444555}, {\"text\": \"damage\", \"score\": 0.016386800232475254}, {\"text\": \".\", \"score\": 0.0200640117081824}]}, {\"score\": 0.02293825564635248, \"tokens\": [{\"text\": \"\\\\\", \"score\": 0.002692587605027377}, {\"text\": \"n\", \"score\": 0.002182157465633623}, {\"text\": \"\\\\\", \"score\": 0.0017702812639764614}, {\"text\": \"n\", \"score\": 0.0021672603044845325}, {\"text\": \"I\", \"score\": 0.004330950760397047}, {\"text\": \"doubt\", \"score\": 0.004445012810152114}, {\"text\": \"I\", \"score\": 0.003679947393111957}, {\"text\": \"would\", \"score\": 0.01033338693342604}, {\"text\": \"do\", \"score\": 0.004922539020396646}, {\"text\": \"it\", \"score\": 0.007274888335102046}, {\"text\": \"often\", \"score\": 0.007006848490284597}, {\"text\": \",\", \"score\": 0.004169553271581816}, {\"text\": \"but\", \"score\": 0.006218483200882041}, {\"text\": \"why\", \"score\": 0.008211766508939341}, {\"text\": \"not\", \"score\": 0.002815672513044328}, {\"text\": \"give\", \"score\": 0.004434208056933837}, {\"text\": \"it\", \"score\": 0.007474107436937044}, {\"text\": \"a\", \"score\": 0.005464164547036079}, {\"text\": \"shot\", \"score\": 0.03090084466157202}, {\"text\": \".\", \"score\": 0.02811242984003367}]}]});\n",
       "     "
      ],
      "text/plain": [
       "<IPython.core.display.Javascript object>"
      ]
     },
     "metadata": {},
     "output_type": "display_data"
    },
    {
     "data": {
      "application/javascript": [
       "\n",
       "    require.config({\n",
       "        paths: {\n",
       "        d3: 'https://d3js.org/d3.v6.min'\n",
       "    }});\n",
       "\n",
       "    function outputHAN(element, doc) {\n",
       "         require(['d3'], function(d3) {\n",
       "             d3.select(element.get(0)).append('h3').text(`Prediction: ${doc['classification']} - ${doc['score']}`)\n",
       "             d3.select(element.get(0)).append('br')\n",
       "             for (const line of doc['lines']){\n",
       "                 let thisdiv = d3.select(element.get(0)).append('div')\n",
       "                thisdiv.append('div')\n",
       "                 .style('height', '20px')\n",
       "                 .style('width', '20px')\n",
       "                 .style('background-color', d3.interpolateReds(0.6 * line['score']))\n",
       "                 .style('display', 'inline-block')\n",
       "                 .style('margin-right', '4px')\n",
       "                 .style('vertical-align', 'middle')\n",
       "                 for (const token of line['tokens']){\n",
       "                     thisdiv\n",
       "                         .append('span')\n",
       "                         .text(token['text'])\n",
       "                         .style('background-color', d3.interpolateBlues(0.6*token['score']))\n",
       "                         .style('margin', '2px')\n",
       "                         .style('padding', '2px')\n",
       "                         \n",
       "                }\n",
       "             }\n",
       "         })\n",
       "     };\n",
       "     outputHAN(element, {\"classification\": \"Family & Relationships\", \"score\": 0.54, \"lines\": [{\"score\": 1.0, \"tokens\": [{\"text\": \"Q\", \"score\": 0.14013815377935065}, {\"text\": \".\", \"score\": 0.30439154985657746}, {\"text\": \"girls\", \"score\": 1.0}, {\"text\": \"fight\", \"score\": 0.2720072457561079}, {\"text\": \"over\", \"score\": 0.05116276594645573}, {\"text\": \"me\", \"score\": 0.06470392572612718}, {\"text\": \"all\", \"score\": 0.06829966956432919}, {\"text\": \"the\", \"score\": 0.026731211966759767}, {\"text\": \"time\", \"score\": 0.033346936772816756}, {\"text\": \",\", \"score\": 0.028779064431658487}, {\"text\": \"and\", \"score\": 0.039466824430110944}, {\"text\": \"i\", \"score\": 0.011494329713703753}, {\"text\": \"always\", \"score\": 0.01999648816843778}, {\"text\": \"end\", \"score\": 0.09595307162802803}, {\"text\": \"up\", \"score\": 0.03196912770141382}, {\"text\": \"with\", \"score\": 0.10138201224156594}, {\"text\": \"the\", \"score\": 0.029265165320052404}, {\"text\": \"ugly\", \"score\": 0.5350385570565375}, {\"text\": \"1\", \"score\": 0.07609186069149834}, {\"text\": \"'s\", \"score\": 0.03431491156544632}, {\"text\": \"?\", \"score\": 0.2862198960874485}]}, {\"score\": 0.10529709509740773, \"tokens\": [{\"text\": \"how\", \"score\": 0.036144440069589626}, {\"text\": \"do\", \"score\": 0.01964494780228698}, {\"text\": \"end\", \"score\": 0.036796861106594594}, {\"text\": \"up\", \"score\": 0.020316861968294853}, {\"text\": \"with\", \"score\": 0.0176934343972425}, {\"text\": \"the\", \"score\": 0.00786053901091465}, {\"text\": \"bab\", \"score\": 0.050768822929902514}, {\"text\": \"es\", \"score\": 0.03832567151619751}, {\"text\": \"?\", \"score\": 0.11474329392398001}]}, {\"score\": 0.5339578213618256, \"tokens\": [{\"text\": \"?\", \"score\": 0.02619177688821718}, {\"text\": \"please\", \"score\": 0.01414783390280534}, {\"text\": \"help\", \"score\": 0.025928215495700766}, {\"text\": \"me\", \"score\": 0.00847951397852212}, {\"text\": \",\", \"score\": 0.011904101022778123}, {\"text\": \"iv\", \"score\": 0.07400149108583538}, {\"text\": \"had\", \"score\": 0.01789511374919701}, {\"text\": \"enough\", \"score\": 0.03675982805416138}, {\"text\": \"mut\", \"score\": 0.17423209207706913}, {\"text\": \"t\", \"score\": 0.02188216045620874}, {\"text\": \"to\", \"score\": 0.004000971597267677}, {\"text\": \"last\", \"score\": 0.012212625070187172}, {\"text\": \"a\", \"score\": 0.010367324373800004}, {\"text\": \"life\", \"score\": 0.1013874161866437}, {\"text\": \"time\", \"score\": 0.026634135588975424}, {\"text\": \"....\", \"score\": 0.020559048010260095}, {\"text\": \"and\", \"score\": 0.01766842626751089}, {\"text\": \"i\", \"score\": 0.011401818066645041}, {\"text\": \"dont\", \"score\": 0.008878986879551083}, {\"text\": \"have\", \"score\": 0.01042975940280948}, {\"text\": \"any\", \"score\": 0.005733839323640036}, {\"text\": \"beer\", \"score\": 0.1716460204212703}, {\"text\": \"goggles\", \"score\": 0.4849018170957668}, {\"text\": \"A\", \"score\": 0.015392818125850296}, {\"text\": \".\", \"score\": 0.014419979782650765}, {\"text\": \"Try\", \"score\": 0.007046150748854895}, {\"text\": \"looking\", \"score\": 0.010130894907226903}, {\"text\": \"at\", \"score\": 0.012984064562818644}, {\"text\": \"the\", \"score\": 0.007015378029405815}, {\"text\": \"\\\"\", \"score\": 0.03974857605131279}, {\"text\": \"inside\", \"score\": 0.008537111789744844}, {\"text\": \"\\\"\", \"score\": 0.02660061739064998}, {\"text\": \"of\", \"score\": 0.010312253364862575}, {\"text\": \"a\", \"score\": 0.014394408360339015}, {\"text\": \"person\", \"score\": 0.020152941537667477}, {\"text\": \"for\", \"score\": 0.008765259595995938}, {\"text\": \"once\", \"score\": 0.045292057402426554}, {\"text\": \"and\", \"score\": 0.009582348685690948}, {\"text\": \"not\", \"score\": 0.011321056565419573}, {\"text\": \"their\", \"score\": 0.009484201250571811}, {\"text\": \"looks\", \"score\": 0.10213330715503578}, {\"text\": \".\", \"score\": 0.06520724825474557}]}]});\n",
       "     "
      ],
      "text/plain": [
       "<IPython.core.display.Javascript object>"
      ]
     },
     "metadata": {},
     "output_type": "display_data"
    },
    {
     "data": {
      "application/javascript": [
       "\n",
       "    require.config({\n",
       "        paths: {\n",
       "        d3: 'https://d3js.org/d3.v6.min'\n",
       "    }});\n",
       "\n",
       "    function outputHAN(element, doc) {\n",
       "         require(['d3'], function(d3) {\n",
       "             d3.select(element.get(0)).append('h3').text(`Prediction: ${doc['classification']} - ${doc['score']}`)\n",
       "             d3.select(element.get(0)).append('br')\n",
       "             for (const line of doc['lines']){\n",
       "                 let thisdiv = d3.select(element.get(0)).append('div')\n",
       "                thisdiv.append('div')\n",
       "                 .style('height', '20px')\n",
       "                 .style('width', '20px')\n",
       "                 .style('background-color', d3.interpolateReds(0.6 * line['score']))\n",
       "                 .style('display', 'inline-block')\n",
       "                 .style('margin-right', '4px')\n",
       "                 .style('vertical-align', 'middle')\n",
       "                 for (const token of line['tokens']){\n",
       "                     thisdiv\n",
       "                         .append('span')\n",
       "                         .text(token['text'])\n",
       "                         .style('background-color', d3.interpolateBlues(0.6*token['score']))\n",
       "                         .style('margin', '2px')\n",
       "                         .style('padding', '2px')\n",
       "                         \n",
       "                }\n",
       "             }\n",
       "         })\n",
       "     };\n",
       "     outputHAN(element, {\"classification\": \"Computers & Internet\", \"score\": 0.53, \"lines\": [{\"score\": 1.0, \"tokens\": [{\"text\": \"Q\", \"score\": 0.085490451738221}, {\"text\": \".\", \"score\": 0.08167208713083846}, {\"text\": \"what\", \"score\": 0.06845157653828708}, {\"text\": \"is\", \"score\": 0.18497829412265618}, {\"text\": \"internet\", \"score\": 1.0}, {\"text\": \"?\", \"score\": 0.12846989804043205}]}, {\"score\": 0.39702345773976994, \"tokens\": [{\"text\": \"ab\", \"score\": 0.04491269578146182}, {\"text\": \"cd\", \"score\": 0.05734639559727752}, {\"text\": \"A\", \"score\": 0.032186995915101255}, {\"text\": \".\", \"score\": 0.042100953161647886}, {\"text\": \"you\", \"score\": 0.020059045649837084}, {\"text\": \"'re\", \"score\": 0.012178406331263193}, {\"text\": \"making\", \"score\": 0.03577540291014654}, {\"text\": \"use\", \"score\": 0.049650532431388124}, {\"text\": \"of\", \"score\": 0.00781109729725999}, {\"text\": \"it\", \"score\": 0.026748699154570996}, {\"text\": \"at\", \"score\": 0.01597667319774789}, {\"text\": \"the\", \"score\": 0.0059101012587399245}, {\"text\": \"moment\", \"score\": 0.02281243139522834}, {\"text\": \"to\", \"score\": 0.006371345046693619}, {\"text\": \"ask\", \"score\": 0.04755384944894415}, {\"text\": \"this\", \"score\": 0.01584079420004667}, {\"text\": \"silly\", \"score\": 0.024945963672038465}, {\"text\": \"question\", \"score\": 0.03889815065640843}, {\"text\": \"\\\\\", \"score\": 0.005837748677865841}, {\"text\": \"n\", \"score\": 0.005230728472425284}, {\"text\": \"\\\\\", \"score\": 0.005520656186276539}, {\"text\": \"ne\", \"score\": 0.012704653774712561}, {\"text\": \"f\", \"score\": 0.020181849142630024}, {\"text\": \"gh\", \"score\": 0.05845893472515108}]}]});\n",
       "     "
      ],
      "text/plain": [
       "<IPython.core.display.Javascript object>"
      ]
     },
     "metadata": {},
     "output_type": "display_data"
    },
    {
     "data": {
      "application/javascript": [
       "\n",
       "    require.config({\n",
       "        paths: {\n",
       "        d3: 'https://d3js.org/d3.v6.min'\n",
       "    }});\n",
       "\n",
       "    function outputHAN(element, doc) {\n",
       "         require(['d3'], function(d3) {\n",
       "             d3.select(element.get(0)).append('h3').text(`Prediction: ${doc['classification']} - ${doc['score']}`)\n",
       "             d3.select(element.get(0)).append('br')\n",
       "             for (const line of doc['lines']){\n",
       "                 let thisdiv = d3.select(element.get(0)).append('div')\n",
       "                thisdiv.append('div')\n",
       "                 .style('height', '20px')\n",
       "                 .style('width', '20px')\n",
       "                 .style('background-color', d3.interpolateReds(0.6 * line['score']))\n",
       "                 .style('display', 'inline-block')\n",
       "                 .style('margin-right', '4px')\n",
       "                 .style('vertical-align', 'middle')\n",
       "                 for (const token of line['tokens']){\n",
       "                     thisdiv\n",
       "                         .append('span')\n",
       "                         .text(token['text'])\n",
       "                         .style('background-color', d3.interpolateBlues(0.6*token['score']))\n",
       "                         .style('margin', '2px')\n",
       "                         .style('padding', '2px')\n",
       "                         \n",
       "                }\n",
       "             }\n",
       "         })\n",
       "     };\n",
       "     outputHAN(element, {\"classification\": \"Education & Reference\", \"score\": 0.75, \"lines\": [{\"score\": 1.0, \"tokens\": [{\"text\": \"Q\", \"score\": 0.209790874504672}, {\"text\": \".\", \"score\": 0.3058924570346726}, {\"text\": \"Why\", \"score\": 0.11146314259806749}, {\"text\": \"is\", \"score\": 0.09751910598003391}, {\"text\": \"gym\", \"score\": 1.0}, {\"text\": \"a\", \"score\": 0.0560498110197155}, {\"text\": \"must\", \"score\": 0.06530828861803231}, {\"text\": \"class\", \"score\": 0.1636839100084646}, {\"text\": \"in\", \"score\": 0.020421370989209604}, {\"text\": \"high\", \"score\": 0.012817405707003229}, {\"text\": \"school\", \"score\": 0.35647756268303826}, {\"text\": \"to\", \"score\": 0.041019355864566745}, {\"text\": \"be\", \"score\": 0.04282862030001747}, {\"text\": \"able\", \"score\": 0.28843419679188426}, {\"text\": \"to\", \"score\": 0.04023866766659136}, {\"text\": \"graduate\", \"score\": 0.8736166211984526}, {\"text\": \"?\", \"score\": 0.2980702356605391}]}, {\"score\": 0.3514182561155027, \"tokens\": [{\"text\": \"You\", \"score\": 0.1350856518046033}, {\"text\": \"have\", \"score\": 0.03195512125448625}, {\"text\": \"to\", \"score\": 0.01835037978442827}, {\"text\": \"take\", \"score\": 0.08285530386180587}, {\"text\": \"gym\", \"score\": 0.42523990338395473}, {\"text\": \"all\", \"score\": 0.009688860284051849}, {\"text\": \"the\", \"score\": 0.006266736857354491}, {\"text\": \"four\", \"score\": 0.024343309193378737}, {\"text\": \"years\", \"score\": 0.014482353489543541}, {\"text\": \"while\", \"score\": 0.009931996768237354}, {\"text\": \"you\", \"score\": 0.014739836886889414}, {\"text\": \"are\", \"score\": 0.03272692736327618}, {\"text\": \"in\", \"score\": 0.00665088392008186}, {\"text\": \"high\", \"score\": 0.004711251928757527}, {\"text\": \"school\", \"score\": 0.20172794060670837}, {\"text\": \"why\", \"score\": 0.05061371875837144}, {\"text\": \"is\", \"score\": 0.074981028700903}, {\"text\": \"that\", \"score\": 0.07775681335309567}, {\"text\": \"?\", \"score\": 0.17781288911852883}]}, {\"score\": 0.008014505449652286, \"tokens\": [{\"text\": \"A\", \"score\": 0.009919959330046942}, {\"text\": \".\", \"score\": 0.022006878268780138}]}, {\"score\": 0.1643121161700453, \"tokens\": [{\"text\": \"50\", \"score\": 0.04027309235127192}, {\"text\": \"%\", \"score\": 0.03624898211785062}, {\"text\": \"of\", \"score\": 0.009754894466020922}, {\"text\": \"Americas\", \"score\": 0.2363400057414668}, {\"text\": \"youth\", \"score\": 0.06954295641893563}, {\"text\": \"is\", \"score\": 0.008349542706824323}, {\"text\": \"OVER\", \"score\": 0.021020154264230397}, {\"text\": \"WE\", \"score\": 0.018608502323206627}, {\"text\": \"IGHT\", \"score\": 0.012495255363226843}, {\"text\": \".....\", \"score\": 0.04411530425082556}, {\"text\": \"EN\", \"score\": 0.010733915827946184}, {\"text\": \"OUGH\", \"score\": 0.013945043101062572}, {\"text\": \"SA\", \"score\": 0.027143419107255682}, {\"text\": \"ID\", \"score\": 0.050571598020153326}, {\"text\": \"!!\", \"score\": 0.05541629007838483}]}, {\"score\": 0.0011936966284229634, \"tokens\": [{\"text\": \"!\", \"score\": 0.004755247674025956}]}]});\n",
       "     "
      ],
      "text/plain": [
       "<IPython.core.display.Javascript object>"
      ]
     },
     "metadata": {},
     "output_type": "display_data"
    },
    {
     "data": {
      "application/javascript": [
       "\n",
       "    require.config({\n",
       "        paths: {\n",
       "        d3: 'https://d3js.org/d3.v6.min'\n",
       "    }});\n",
       "\n",
       "    function outputHAN(element, doc) {\n",
       "         require(['d3'], function(d3) {\n",
       "             d3.select(element.get(0)).append('h3').text(`Prediction: ${doc['classification']} - ${doc['score']}`)\n",
       "             d3.select(element.get(0)).append('br')\n",
       "             for (const line of doc['lines']){\n",
       "                 let thisdiv = d3.select(element.get(0)).append('div')\n",
       "                thisdiv.append('div')\n",
       "                 .style('height', '20px')\n",
       "                 .style('width', '20px')\n",
       "                 .style('background-color', d3.interpolateReds(0.6 * line['score']))\n",
       "                 .style('display', 'inline-block')\n",
       "                 .style('margin-right', '4px')\n",
       "                 .style('vertical-align', 'middle')\n",
       "                 for (const token of line['tokens']){\n",
       "                     thisdiv\n",
       "                         .append('span')\n",
       "                         .text(token['text'])\n",
       "                         .style('background-color', d3.interpolateBlues(0.6*token['score']))\n",
       "                         .style('margin', '2px')\n",
       "                         .style('padding', '2px')\n",
       "                         \n",
       "                }\n",
       "             }\n",
       "         })\n",
       "     };\n",
       "     outputHAN(element, {\"classification\": \"Health\", \"score\": 0.95, \"lines\": [{\"score\": 1.0, \"tokens\": [{\"text\": \"Q\", \"score\": 0.122234898254893}, {\"text\": \".\", \"score\": 0.045767915090159775}, {\"text\": \"What\", \"score\": 0.01191509704651522}, {\"text\": \"'s\", \"score\": 0.02174366561612456}, {\"text\": \"the\", \"score\": 0.015132441862622947}, {\"text\": \"fastest\", \"score\": 0.03102270146798402}, {\"text\": \"way\", \"score\": 0.010686216934690181}, {\"text\": \"to\", \"score\": 0.00898689230920162}, {\"text\": \"lose\", \"score\": 0.2888103969213081}, {\"text\": \"weight\", \"score\": 1.0}, {\"text\": \"?\", \"score\": 0.18975783882931269}]}, {\"score\": 0.07010392231196724, \"tokens\": [{\"text\": \"Im\", \"score\": 0.024421456440889142}, {\"text\": \"going\", \"score\": 0.013701417341552675}, {\"text\": \"traveling\", \"score\": 0.02531870897729044}, {\"text\": \"all\", \"score\": 0.004176232044181967}, {\"text\": \"over\", \"score\": 0.006183617215859925}, {\"text\": \"Europe\", \"score\": 0.0320923609598389}, {\"text\": \"in\", \"score\": 0.0034022050812025344}, {\"text\": \"summer\", \"score\": 0.004455803041941443}, {\"text\": \".\", \"score\": 0.008653706545758358}]}, {\"score\": 0.6992942718981818, \"tokens\": [{\"text\": \"I\", \"score\": 0.03957378078264115}, {\"text\": \"want\", \"score\": 0.010574576602105616}, {\"text\": \"to\", \"score\": 0.005268117168628311}, {\"text\": \"have\", \"score\": 0.028730277187719828}, {\"text\": \"a\", \"score\": 0.017879720646678848}, {\"text\": \"good\", \"score\": 0.019569925581590562}, {\"text\": \"body\", \"score\": 0.30321479643347543}, {\"text\": \"for\", \"score\": 0.017986551823891868}, {\"text\": \"swimming\", \"score\": 0.5787611164836832}, {\"text\": \"and\", \"score\": 0.01676652041342289}, {\"text\": \"clothes\", \"score\": 0.06030683726471488}, {\"text\": \"but\", \"score\": 0.004983330983314811}, {\"text\": \"also\", \"score\": 0.0072473817888653175}, {\"text\": \"for\", \"score\": 0.0034661528916992376}, {\"text\": \"my\", \"score\": 0.003374129468807363}, {\"text\": \"confidence\", \"score\": 0.07193399471468405}, {\"text\": \"!\", \"score\": 0.031371074370657524}]}, {\"score\": 0.004051429283577543, \"tokens\": [{\"text\": \"Help\", \"score\": 0.003059990182747037}, {\"text\": \"!\", \"score\": 0.0040140404790546}]}, {\"score\": 0.4241068309778713, \"tokens\": [{\"text\": \"A\", \"score\": 0.04562630334975629}, {\"text\": \".\", \"score\": 0.04204345369243698}, {\"text\": \"There\", \"score\": 0.009643109869985298}, {\"text\": \"is\", \"score\": 0.005809466915207863}, {\"text\": \"not\", \"score\": 0.0057259674582558085}, {\"text\": \"a\", \"score\": 0.004968688080769645}, {\"text\": \"Fast\", \"score\": 0.011321857380642184}, {\"text\": \"way\", \"score\": 0.006821288726021718}, {\"text\": \"to\", \"score\": 0.006190423110139963}, {\"text\": \"lose\", \"score\": 0.09930957872174717}, {\"text\": \"weight\", \"score\": 0.24122109101445416}, {\"text\": \",\", \"score\": 0.010444432222228388}, {\"text\": \"it\", \"score\": 0.020906791284709167}, {\"text\": \"didn\", \"score\": 0.019558600038756518}, {\"text\": \"'t\", \"score\": 0.007143143075197818}, {\"text\": \"just\", \"score\": 0.02183015272923578}, {\"text\": \"appear\", \"score\": 0.009200479689943239}, {\"text\": \"over\", \"score\": 0.011240169486631082}, {\"text\": \"night\", \"score\": 0.00874319802603069}, {\"text\": \"on\", \"score\": 0.009320333705809824}, {\"text\": \"your\", \"score\": 0.017424216672054654}, {\"text\": \"body\", \"score\": 0.06322426385742042}, {\"text\": \".\", \"score\": 0.06279815318027747}]}, {\"score\": 0.09379597455207042, \"tokens\": [{\"text\": \"Drug\", \"score\": 0.047752390833112494}, {\"text\": \"companies\", \"score\": 0.02160868949844072}, {\"text\": \"are\", \"score\": 0.002237377110724201}, {\"text\": \"literally\", \"score\": 0.002784014082825637}, {\"text\": \"making\", \"score\": 0.0007264573457944149}, {\"text\": \"billions\", \"score\": 0.011285307257839985}, {\"text\": \"telling\", \"score\": 0.003483561690891224}, {\"text\": \"people\", \"score\": 0.014542128880334397}, {\"text\": \"they\", \"score\": 0.0009354542255920081}, {\"text\": \"'ll\", \"score\": 0.0019235047490463492}, {\"text\": \"lose\", \"score\": 0.0027782117519599098}, {\"text\": \"weight\", \"score\": 0.03590390745355346}, {\"text\": \"with\", \"score\": 0.000375129785544984}, {\"text\": \"their\", \"score\": 0.0002896149027194224}, {\"text\": \"products\", \"score\": 0.009487506956112638}, {\"text\": \".\", \"score\": 0.007659956554430013}]}, {\"score\": 0.419479883520926, \"tokens\": [{\"text\": \"Cut\", \"score\": 0.05203699056338933}, {\"text\": \"ting\", \"score\": 0.05439256617166547}, {\"text\": \"calories\", \"score\": 0.12559913910120954}, {\"text\": \",\", \"score\": 0.005052569180874307}, {\"text\": \"drinking\", \"score\": 0.049614339703184275}, {\"text\": \"water\", \"score\": 0.01820099282067896}, {\"text\": \",\", \"score\": 0.00739204125470524}, {\"text\": \"and\", \"score\": 0.006710338061004053}, {\"text\": \"exercise\", \"score\": 0.07918862185201578}, {\"text\": \"is\", \"score\": 0.010235898790454428}, {\"text\": \"the\", \"score\": 0.024190206886034103}, {\"text\": \"only\", \"score\": 0.012650446169660585}, {\"text\": \"true\", \"score\": 0.02924454427157404}, {\"text\": \"safe\", \"score\": 0.03961710292607079}, {\"text\": \"and\", \"score\": 0.012960889614398093}, {\"text\": \"healthy\", \"score\": 0.12255559051196065}, {\"text\": \"way\", \"score\": 0.01369874629113313}, {\"text\": \".\", \"score\": 0.0690952200334194}]}, {\"score\": 0.007493637293334901, \"tokens\": [{\"text\": \"Good\", \"score\": 0.008375279574159301}, {\"text\": \"luck\", \"score\": 0.004709045630306764}]}]});\n",
       "     "
      ],
      "text/plain": [
       "<IPython.core.display.Javascript object>"
      ]
     },
     "metadata": {},
     "output_type": "display_data"
    },
    {
     "data": {
      "application/javascript": [
       "\n",
       "    require.config({\n",
       "        paths: {\n",
       "        d3: 'https://d3js.org/d3.v6.min'\n",
       "    }});\n",
       "\n",
       "    function outputHAN(element, doc) {\n",
       "         require(['d3'], function(d3) {\n",
       "             d3.select(element.get(0)).append('h3').text(`Prediction: ${doc['classification']} - ${doc['score']}`)\n",
       "             d3.select(element.get(0)).append('br')\n",
       "             for (const line of doc['lines']){\n",
       "                 let thisdiv = d3.select(element.get(0)).append('div')\n",
       "                thisdiv.append('div')\n",
       "                 .style('height', '20px')\n",
       "                 .style('width', '20px')\n",
       "                 .style('background-color', d3.interpolateReds(0.6 * line['score']))\n",
       "                 .style('display', 'inline-block')\n",
       "                 .style('margin-right', '4px')\n",
       "                 .style('vertical-align', 'middle')\n",
       "                 for (const token of line['tokens']){\n",
       "                     thisdiv\n",
       "                         .append('span')\n",
       "                         .text(token['text'])\n",
       "                         .style('background-color', d3.interpolateBlues(0.6*token['score']))\n",
       "                         .style('margin', '2px')\n",
       "                         .style('padding', '2px')\n",
       "                         \n",
       "                }\n",
       "             }\n",
       "         })\n",
       "     };\n",
       "     outputHAN(element, {\"classification\": \"Health\", \"score\": 0.79, \"lines\": [{\"score\": 0.3012101947354966, \"tokens\": [{\"text\": \"Q\", \"score\": 0.08416289369380511}, {\"text\": \".\", \"score\": 0.12125000767635553}, {\"text\": \"is\", \"score\": 0.023508046369105008}, {\"text\": \"their\", \"score\": 0.011108161265618206}, {\"text\": \"anyway\", \"score\": 0.04798959358832669}, {\"text\": \"to\", \"score\": 0.014510222774719824}, {\"text\": \"inc\", \"score\": 0.3441057395210335}, {\"text\": \"rise\", \"score\": 0.07530475660870684}, {\"text\": \"the\", \"score\": 0.009607236886825955}, {\"text\": \"height\", \"score\": 0.29118092100596044}, {\"text\": \"?\", \"score\": 0.1629346034860607}]}, {\"score\": 1.0, \"tokens\": [{\"text\": \"i\", \"score\": 0.05437180491553573}, {\"text\": \"am\", \"score\": 0.012441616187570318}, {\"text\": \"the\", \"score\": 0.016802078129734856}, {\"text\": \"20\", \"score\": 0.03063738050561454}, {\"text\": \"y\", \"score\": 0.06551888563458473}, {\"text\": \"rs\", \"score\": 0.10806740893671782}, {\"text\": \"guy\", \"score\": 0.47942969654784234}, {\"text\": \"i\", \"score\": 0.013708037003951259}, {\"text\": \"want\", \"score\": 0.02093255133152475}, {\"text\": \"to\", \"score\": 0.011925262162100065}, {\"text\": \"inc\", \"score\": 0.37809161248571405}, {\"text\": \"rise\", \"score\": 0.12876231419778486}, {\"text\": \"the\", \"score\": 0.016650334448222507}, {\"text\": \"height\", \"score\": 0.25908332562168424}, {\"text\": \"\", \"score\": 0.025290519285334476}, {\"text\": \"now\", \"score\": 0.013054304339014966}, {\"text\": \"my\", \"score\": 0.012007933533296218}, {\"text\": \"height\", \"score\": 1.0}, {\"text\": \"is\", \"score\": 0.03359205938195703}, {\"text\": \"only\", \"score\": 0.02327740662745831}, {\"text\": \"5\", \"score\": 0.05276256947631161}, {\"text\": \"ft\", \"score\": 0.25884654975877186}, {\"text\": \"A\", \"score\": 0.05051340061385433}, {\"text\": \".\", \"score\": 0.04196490521130307}, {\"text\": \"At\", \"score\": 0.017422046411033794}, {\"text\": \"20\", \"score\": 0.021535957544883386}, {\"text\": \",\", \"score\": 0.015702125866078196}, {\"text\": \"you\", \"score\": 0.017495765894344126}, {\"text\": \"can\", \"score\": 0.04215808136005114}, {\"text\": \"still\", \"score\": 0.13398295065553958}, {\"text\": \"grow\", \"score\": 0.24949767517602148}, {\"text\": \",\", \"score\": 0.05509537752634155}, {\"text\": \"but\", \"score\": 0.029148323044546367}, {\"text\": \"only\", \"score\": 0.050109812912921756}, {\"text\": \"a\", \"score\": 0.0194530628446816}, {\"text\": \"little\", \"score\": 0.03753316648818699}, {\"text\": \".\", \"score\": 0.13946200235775288}]}, {\"score\": 0.13449594039238033, \"tokens\": [{\"text\": \"Meanwhile\", \"score\": 0.04378720583940895}, {\"text\": \",\", \"score\": 0.017130586441269104}, {\"text\": \"maintain\", \"score\": 0.05216166635043611}, {\"text\": \"a\", \"score\": 0.005301456569933293}, {\"text\": \"good\", \"score\": 0.009569432490211853}, {\"text\": \"posture\", \"score\": 0.05521631983127688}, {\"text\": \"to\", \"score\": 0.0023555779982706495}, {\"text\": \"maximize\", \"score\": 0.016614351531660573}, {\"text\": \"your\", \"score\": 0.029261208484945768}, {\"text\": \"potential\", \"score\": 0.0389897880383534}, {\"text\": \"height\", \"score\": 0.19504723393910542}, {\"text\": \".\", \"score\": 0.0639853218552936}]}, {\"score\": 0.3335358869270542, \"tokens\": [{\"text\": \"Drug\", \"score\": 0.16128981196211248}, {\"text\": \"s\", \"score\": 0.01572354852293155}, {\"text\": \",\", \"score\": 0.013211787916114057}, {\"text\": \"medicines\", \"score\": 0.12730843892998592}, {\"text\": \"and\", \"score\": 0.04222568292035246}, {\"text\": \"hormones\", \"score\": 0.1356835678133483}, {\"text\": \"may\", \"score\": 0.023264202965063794}, {\"text\": \"increase\", \"score\": 0.013972725683793869}, {\"text\": \"your\", \"score\": 0.0175316263862704}, {\"text\": \"height\", \"score\": 0.16805682377184136}, {\"text\": \"further\", \"score\": 0.03396683427944856}, {\"text\": \"but\", \"score\": 0.014147481888036172}, {\"text\": \"may\", \"score\": 0.032942298900131776}, {\"text\": \"affect\", \"score\": 0.017740423256773774}, {\"text\": \"your\", \"score\": 0.029456495631465476}, {\"text\": \"health\", \"score\": 0.3306206063452649}, {\"text\": \"and\", \"score\": 0.020916154702281285}, {\"text\": \"agility\", \"score\": 0.058769198565188564}, {\"text\": \".\", \"score\": 0.05607899991593067}]}, {\"score\": 0.14482607952789725, \"tokens\": [{\"text\": \"You\", \"score\": 0.0788919837248557}, {\"text\": \"can\", \"score\": 0.031987572033332114}, {\"text\": \"always\", \"score\": 0.01778505530840632}, {\"text\": \"try\", \"score\": 0.025969243119814887}, {\"text\": \"elevator\", \"score\": 0.05297447659431551}, {\"text\": \"shoes\", \"score\": 0.10196434894022882}, {\"text\": \".\", \"score\": 0.03183706914204604}, {\"text\": \"\\\\\", \"score\": 0.011461423342166613}, {\"text\": \"n\", \"score\": 0.018860792310007025}, {\"text\": \"Do\", \"score\": 0.04368751578946923}, {\"text\": \"not\", \"score\": 0.027283658529341573}, {\"text\": \"be\", \"score\": 0.00873677125709904}, {\"text\": \"ashamed\", \"score\": 0.016574156545877183}, {\"text\": \"of\", \"score\": 0.002029635640924335}, {\"text\": \"your\", \"score\": 0.006077698657860705}, {\"text\": \"five\", \"score\": 0.018492136989911468}, {\"text\": \"feet\", \"score\": 0.01897234762328386}, {\"text\": \"height\", \"score\": 0.029497967803988445}, {\"text\": \".\", \"score\": 0.026999206542774875}]}, {\"score\": 0.0610132134950563, \"tokens\": [{\"text\": \"You\", \"score\": 0.030422521961259073}, {\"text\": \"will\", \"score\": 0.009651844122653973}, {\"text\": \"find\", \"score\": 0.019508395471225525}, {\"text\": \"yourself\", \"score\": 0.02692011691936523}, {\"text\": \"in\", \"score\": 0.00624287265278224}, {\"text\": \"several\", \"score\": 0.0033640561044708576}, {\"text\": \"positional\", \"score\": 0.0631143797621198}, {\"text\": \"advantages\", \"score\": 0.03431741873068867}, {\"text\": \".\", \"score\": 0.046626444901872885}]}]});\n",
       "     "
      ],
      "text/plain": [
       "<IPython.core.display.Javascript object>"
      ]
     },
     "metadata": {},
     "output_type": "display_data"
    },
    {
     "data": {
      "application/javascript": [
       "\n",
       "    require.config({\n",
       "        paths: {\n",
       "        d3: 'https://d3js.org/d3.v6.min'\n",
       "    }});\n",
       "\n",
       "    function outputHAN(element, doc) {\n",
       "         require(['d3'], function(d3) {\n",
       "             d3.select(element.get(0)).append('h3').text(`Prediction: ${doc['classification']} - ${doc['score']}`)\n",
       "             d3.select(element.get(0)).append('br')\n",
       "             for (const line of doc['lines']){\n",
       "                 let thisdiv = d3.select(element.get(0)).append('div')\n",
       "                thisdiv.append('div')\n",
       "                 .style('height', '20px')\n",
       "                 .style('width', '20px')\n",
       "                 .style('background-color', d3.interpolateReds(0.6 * line['score']))\n",
       "                 .style('display', 'inline-block')\n",
       "                 .style('margin-right', '4px')\n",
       "                 .style('vertical-align', 'middle')\n",
       "                 for (const token of line['tokens']){\n",
       "                     thisdiv\n",
       "                         .append('span')\n",
       "                         .text(token['text'])\n",
       "                         .style('background-color', d3.interpolateBlues(0.6*token['score']))\n",
       "                         .style('margin', '2px')\n",
       "                         .style('padding', '2px')\n",
       "                         \n",
       "                }\n",
       "             }\n",
       "         })\n",
       "     };\n",
       "     outputHAN(element, {\"classification\": \"Family & Relationships\", \"score\": 0.34, \"lines\": [{\"score\": 1.0, \"tokens\": [{\"text\": \"Q\", \"score\": 0.2428703543924806}, {\"text\": \".\", \"score\": 0.2207034316061152}, {\"text\": \"what\", \"score\": 0.10605690788529347}, {\"text\": \"is\", \"score\": 0.11215044026979351}, {\"text\": \"the\", \"score\": 0.16862096267545634}, {\"text\": \"only\", \"score\": 0.14610174050625954}, {\"text\": \"different\", \"score\": 0.11742700808449581}, {\"text\": \"between\", \"score\": 0.13739319437936667}, {\"text\": \"the\", \"score\": 0.039149365107294186}, {\"text\": \"two\", \"score\": 0.08290890834838821}, {\"text\": \"legs\", \"score\": 0.12259437455481627}, {\"text\": \"of\", \"score\": 0.04388245070085795}, {\"text\": \"a\", \"score\": 0.08029157819004712}, {\"text\": \"girl\", \"score\": 1.0}, {\"text\": \"?\", \"score\": 0.634981279275964}]}, {\"score\": 0.11803104850067578, \"tokens\": [{\"text\": \"A\", \"score\": 0.02172286192295252}, {\"text\": \".\", \"score\": 0.03068502811328031}, {\"text\": \"Two\", \"score\": 0.025751990672900144}, {\"text\": \"inches\", \"score\": 0.03795209215233455}, {\"text\": \"of\", \"score\": 0.018336725089765436}, {\"text\": \"Heaven\", \"score\": 0.24975794631179155}]}]});\n",
       "     "
      ],
      "text/plain": [
       "<IPython.core.display.Javascript object>"
      ]
     },
     "metadata": {},
     "output_type": "display_data"
    },
    {
     "data": {
      "application/javascript": [
       "\n",
       "    require.config({\n",
       "        paths: {\n",
       "        d3: 'https://d3js.org/d3.v6.min'\n",
       "    }});\n",
       "\n",
       "    function outputHAN(element, doc) {\n",
       "         require(['d3'], function(d3) {\n",
       "             d3.select(element.get(0)).append('h3').text(`Prediction: ${doc['classification']} - ${doc['score']}`)\n",
       "             d3.select(element.get(0)).append('br')\n",
       "             for (const line of doc['lines']){\n",
       "                 let thisdiv = d3.select(element.get(0)).append('div')\n",
       "                thisdiv.append('div')\n",
       "                 .style('height', '20px')\n",
       "                 .style('width', '20px')\n",
       "                 .style('background-color', d3.interpolateReds(0.6 * line['score']))\n",
       "                 .style('display', 'inline-block')\n",
       "                 .style('margin-right', '4px')\n",
       "                 .style('vertical-align', 'middle')\n",
       "                 for (const token of line['tokens']){\n",
       "                     thisdiv\n",
       "                         .append('span')\n",
       "                         .text(token['text'])\n",
       "                         .style('background-color', d3.interpolateBlues(0.6*token['score']))\n",
       "                         .style('margin', '2px')\n",
       "                         .style('padding', '2px')\n",
       "                         \n",
       "                }\n",
       "             }\n",
       "         })\n",
       "     };\n",
       "     outputHAN(element, {\"classification\": \"Science & Mathematics\", \"score\": 0.97, \"lines\": [{\"score\": 0.16320363693759826, \"tokens\": [{\"text\": \"Q\", \"score\": 0.04652408508978806}, {\"text\": \".\", \"score\": 0.03664860516732039}, {\"text\": \"Why\", \"score\": 0.02921023196150408}, {\"text\": \"only\", \"score\": 0.03141865850702779}, {\"text\": \"one\", \"score\": 0.030587904744183683}, {\"text\": \"side\", \"score\": 0.016547984637798593}, {\"text\": \"of\", \"score\": 0.01356902980519479}, {\"text\": \"the\", \"score\": 0.008686754488288208}, {\"text\": \"Moon\", \"score\": 0.24824617450035552}, {\"text\": \"is\", \"score\": 0.027624753154461064}, {\"text\": \"seen\", \"score\": 0.018875153252435595}, {\"text\": \"?\", \"score\": 0.04653606642847157}]}, {\"score\": 0.7579195897878814, \"tokens\": [{\"text\": \"Please\", \"score\": 0.022394475517961736}, {\"text\": \"think\", \"score\": 0.009021600503663565}, {\"text\": \"LOG\", \"score\": 0.13527692967350669}, {\"text\": \"IC\", \"score\": 0.059628004483550025}, {\"text\": \"ALLY\", \"score\": 0.013988699796414096}, {\"text\": \"and\", \"score\": 0.006925744191987717}, {\"text\": \"make\", \"score\": 0.005113027137791345}, {\"text\": \"some\", \"score\": 0.005660328522244611}, {\"text\": \"simple\", \"score\": 0.009620332977672109}, {\"text\": \"mathematical\", \"score\": 0.6352969415401534}, {\"text\": \"calculations\", \"score\": 0.08489822600097796}, {\"text\": \"before\", \"score\": 0.011790473414987694}, {\"text\": \"you\", \"score\": 0.039113594016418424}, {\"text\": \"answer\", \"score\": 0.071353592626179}, {\"text\": \";\", \"score\": 0.028865236299452444}, {\"text\": \"and\", \"score\": 0.012505456055668888}, {\"text\": \"\", \"score\": 0.012802033382636479}, {\"text\": \"consider\", \"score\": 0.02782470981678495}, {\"text\": \"that\", \"score\": 0.021393984962447928}, {\"text\": \"if\", \"score\": 0.047598921611232865}, {\"text\": \"the\", \"score\": 0.03108358516325781}, {\"text\": \"Moon\", \"score\": 0.257911153555345}, {\"text\": \"really\", \"score\": 0.040996775469531906}, {\"text\": \"rot\", \"score\": 0.11861367821676541}, {\"text\": \"ates\", \"score\": 0.009699207220705136}, {\"text\": \",\", \"score\": 0.005556072759105734}, {\"text\": \"all\", \"score\": 0.006537300934883058}, {\"text\": \"its\", \"score\": 0.00918031927260934}, {\"text\": \"sides\", \"score\": 0.022540942941318518}, {\"text\": \"should\", \"score\": 0.006374243329164101}, {\"text\": \"be\", \"score\": 0.0055049334512063865}, {\"text\": \"seen\", \"score\": 0.013161775776677825}, {\"text\": \"on\", \"score\": 0.0037827131308392566}, {\"text\": \"a\", \"score\": 0.005379402014905106}, {\"text\": \"regular\", \"score\": 0.02450561944642829}, {\"text\": \"basis\", \"score\": 0.020223320377275526}, {\"text\": \",\", \"score\": 0.009613408607031379}, {\"text\": \"as\", \"score\": 0.009448084249791353}, {\"text\": \"well\", \"score\": 0.010237197721869169}, {\"text\": \"as\", \"score\": 0.005913088518896665}, {\"text\": \"different\", \"score\": 0.007870659487442025}, {\"text\": \"sides\", \"score\": 0.019910479924697407}, {\"text\": \"of\", \"score\": 0.005935869698304666}, {\"text\": \"the\", \"score\": 0.005529694826419633}, {\"text\": \"Moon\", \"score\": 0.24041969511057143}, {\"text\": \"should\", \"score\": 0.00821728128785671}, {\"text\": \"be\", \"score\": 0.004595985688533078}, {\"text\": \"seen\", \"score\": 0.016119738007874976}, {\"text\": \"from\", \"score\": 0.008874739392818784}, {\"text\": \"different\", \"score\": 0.0048784682195392075}, {\"text\": \"parts\", \"score\": 0.016601327550442725}, {\"text\": \"of\", \"score\": 0.0027659381104594835}, {\"text\": \"the\", \"score\": 0.0032150806618977848}, {\"text\": \"Earth\", \"score\": 0.05787117581032452}, {\"text\": \"and\", \"score\": 0.003009202356191047}, {\"text\": \"throughout\", \"score\": 0.002639455335311368}, {\"text\": \"the\", \"score\": 0.0016179706541583766}, {\"text\": \"different\", \"score\": 0.0017953180487290067}, {\"text\": \"seasons\", \"score\": 0.2176759160139305}, {\"text\": \"and\", \"score\": 0.004097998016902056}, {\"text\": \"hours\", \"score\": 0.00415012764045153}, {\"text\": \"of\", \"score\": 0.0044453836755622665}, {\"text\": \"the\", \"score\": 0.004271193946427062}, {\"text\": \"day\", \"score\": 0.020682454055206887}, {\"text\": \".\", \"score\": 0.030464042995746336}]}, {\"score\": 1.0, \"tokens\": [{\"text\": \"OH\", \"score\": 0.12614314304259305}, {\"text\": \"i\", \"score\": 0.005861809417099476}, {\"text\": \"for\", \"score\": 0.006215323361524238}, {\"text\": \"sure\", \"score\": 0.008713873633479374}, {\"text\": \"know\", \"score\": 0.014784039976128463}, {\"text\": \"the\", \"score\": 0.009277866670631877}, {\"text\": \"common\", \"score\": 0.0803471289604822}, {\"text\": \"explanation\", \"score\": 0.25065860781178545}, {\"text\": \"that\", \"score\": 0.03307363360758324}, {\"text\": \"the\", \"score\": 0.009671063791253154}, {\"text\": \"Moon\", \"score\": 0.33384305991809293}, {\"text\": \"rot\", \"score\": 0.06186387069859141}, {\"text\": \"ates\", \"score\": 0.005030507801534236}, {\"text\": \"the\", \"score\": 0.004642358503560552}, {\"text\": \"same\", \"score\": 0.017339873084072806}, {\"text\": \"speed\", \"score\": 0.039282043485841966}, {\"text\": \"as\", \"score\": 0.006395097443157937}, {\"text\": \"it\", \"score\": 0.021967805379970163}, {\"text\": \"orbits\", \"score\": 0.1769533560736517}, {\"text\": \"the\", \"score\": 0.02065505967717013}, {\"text\": \"Earth\", \"score\": 0.1179434200425032}, {\"text\": \"but\", \"score\": 0.008984003348559446}, {\"text\": \"such\", \"score\": 0.011462170276625315}, {\"text\": \"a\", \"score\": 0.010772709385442822}, {\"text\": \"coins\", \"score\": 0.045515384582367396}, {\"text\": \"c\", \"score\": 0.01803053158652964}, {\"text\": \"idence\", \"score\": 0.018156952303638993}, {\"text\": \"is\", \"score\": 0.01048605873170698}, {\"text\": \"about\", \"score\": 0.00802719903936351}, {\"text\": \"1\", \"score\": 0.01320591929275499}, {\"text\": \":\", \"score\": 0.03116379637596801}, {\"text\": \"10\", \"score\": 0.023032156923581872}, {\"text\": \".\", \"score\": 0.05220780709742312}, {\"text\": \"000\", \"score\": 0.0466469573935653}, {\"text\": \".\", \"score\": 0.06838346092245452}, {\"text\": \"000\", \"score\": 0.05020164533777021}, {\"text\": \"to\", \"score\": 0.009563452974566088}, {\"text\": \"happen\", \"score\": 0.014461785863439021}, {\"text\": \"assuming\", \"score\": 0.009312739368960625}, {\"text\": \"that\", \"score\": 0.012409054880509645}, {\"text\": \"there\", \"score\": 0.013158160297114344}, {\"text\": \"are\", \"score\": 0.013666710464690037}, {\"text\": \"millions\", \"score\": 0.06749280743411303}, {\"text\": \"of\", \"score\": 0.009049190854454306}, {\"text\": \"planets\", \"score\": 0.12091759313990981}, {\"text\": \"and\", \"score\": 0.006731323106721334}, {\"text\": \"satellites\", \"score\": 0.0676029284440311}, {\"text\": \"in\", \"score\": 0.006167711127701574}, {\"text\": \"our\", \"score\": 0.011675351180387969}, {\"text\": \"Universe\", \"score\": 1.0}, {\"text\": \",\", \"score\": 0.027804501106394233}, {\"text\": \"and\", \"score\": 0.004408247274177512}, {\"text\": \"they\", \"score\": 0.004411094105050371}, {\"text\": \"each\", \"score\": 0.015035505246119202}, {\"text\": \"have\", \"score\": 0.004032689443394735}, {\"text\": \"their\", \"score\": 0.002973407932676067}, {\"text\": \"own\", \"score\": 0.00632487953441584}, {\"text\": \"unique\", \"score\": 0.04045831202078826}, {\"text\": \"speed\", \"score\": 0.10831543367554554}, {\"text\": \".\", \"score\": 0.05453269894415385}]}, {\"score\": 0.05287378269140339, \"tokens\": [{\"text\": \"Very\", \"score\": 0.05046465993539567}, {\"text\": \",\", \"score\": 0.020321742249275836}, {\"text\": \"very\", \"score\": 0.014535192902130935}, {\"text\": \"strange\", \"score\": 0.01840920669058577}, {\"text\": \"indeed\", \"score\": 0.02778852192352947}, {\"text\": \".\", \"score\": 0.0481164534278711}]}, {\"score\": 0.2552919883480962, \"tokens\": [{\"text\": \"A\", \"score\": 0.03625625551998633}, {\"text\": \".\", \"score\": 0.03145211497558775}, {\"text\": \"By\", \"score\": 0.03782970943884496}, {\"text\": \"the\", \"score\": 0.0311665905119448}, {\"text\": \"way\", \"score\": 0.026033909048909003}, {\"text\": \",\", \"score\": 0.07401465526410202}, {\"text\": \"what\", \"score\": 0.020633851070239087}, {\"text\": \"is\", \"score\": 0.02341044008213004}, {\"text\": \"on\", \"score\": 0.019070068624537022}, {\"text\": \"the\", \"score\": 0.010064579694220907}, {\"text\": \"other\", \"score\": 0.03532251589744916}, {\"text\": \"side\", \"score\": 0.030125841055832773}, {\"text\": \"of\", \"score\": 0.022961143365458604}, {\"text\": \"sun\", \"score\": 0.36329286290990603}, {\"text\": \".\", \"score\": 0.10570600332587189}]}]});\n",
       "     "
      ],
      "text/plain": [
       "<IPython.core.display.Javascript object>"
      ]
     },
     "metadata": {},
     "output_type": "display_data"
    },
    {
     "data": {
      "application/javascript": [
       "\n",
       "    require.config({\n",
       "        paths: {\n",
       "        d3: 'https://d3js.org/d3.v6.min'\n",
       "    }});\n",
       "\n",
       "    function outputHAN(element, doc) {\n",
       "         require(['d3'], function(d3) {\n",
       "             d3.select(element.get(0)).append('h3').text(`Prediction: ${doc['classification']} - ${doc['score']}`)\n",
       "             d3.select(element.get(0)).append('br')\n",
       "             for (const line of doc['lines']){\n",
       "                 let thisdiv = d3.select(element.get(0)).append('div')\n",
       "                thisdiv.append('div')\n",
       "                 .style('height', '20px')\n",
       "                 .style('width', '20px')\n",
       "                 .style('background-color', d3.interpolateReds(0.6 * line['score']))\n",
       "                 .style('display', 'inline-block')\n",
       "                 .style('margin-right', '4px')\n",
       "                 .style('vertical-align', 'middle')\n",
       "                 for (const token of line['tokens']){\n",
       "                     thisdiv\n",
       "                         .append('span')\n",
       "                         .text(token['text'])\n",
       "                         .style('background-color', d3.interpolateBlues(0.6*token['score']))\n",
       "                         .style('margin', '2px')\n",
       "                         .style('padding', '2px')\n",
       "                         \n",
       "                }\n",
       "             }\n",
       "         })\n",
       "     };\n",
       "     outputHAN(element, {\"classification\": \"Computers & Internet\", \"score\": 0.93, \"lines\": [{\"score\": 1.0, \"tokens\": [{\"text\": \"Q\", \"score\": 0.034016601366559235}, {\"text\": \".\", \"score\": 0.026056448267281557}, {\"text\": \"which\", \"score\": 0.01310546681451122}, {\"text\": \"is\", \"score\": 0.015137027206403217}, {\"text\": \"the\", \"score\": 0.008220763754412283}, {\"text\": \"best\", \"score\": 0.018793975132538134}, {\"text\": \"book\", \"score\": 0.031162673642382333}, {\"text\": \"to\", \"score\": 0.005556681491998726}, {\"text\": \"learn\", \"score\": 0.03362716188899187}, {\"text\": \"v\", \"score\": 0.09472863070616329}, {\"text\": \"c\", \"score\": 0.08311671167075003}, {\"text\": \"++\", \"score\": 1.0}, {\"text\": \".\", \"score\": 0.04750182737033366}, {\"text\": \"net\", \"score\": 0.07391367119924679}, {\"text\": \"?\", \"score\": 0.05629545546469124}]}, {\"score\": 0.49478556766422294, \"tokens\": [{\"text\": \"A\", \"score\": 0.017946778724418057}, {\"text\": \".\", \"score\": 0.029776726110318622}, {\"text\": \"http\", \"score\": 0.008274513712956363}, {\"text\": \"://\", \"score\": 0.008978962328699339}, {\"text\": \"www\", \"score\": 0.009273973743392457}, {\"text\": \".\", \"score\": 0.01966243114593695}, {\"text\": \"de\", \"score\": 0.018796838156154537}, {\"text\": \"it\", \"score\": 0.020856423701545973}, {\"text\": \"el\", \"score\": 0.06785224060890191}, {\"text\": \".\", \"score\": 0.04579467506734063}, {\"text\": \"com\", \"score\": 0.008235426924317609}, {\"text\": \"/\", \"score\": 0.004456173173740122}, {\"text\": \"\\\\\", \"score\": 0.001900770093154845}, {\"text\": \"n\", \"score\": 0.002286404919531825}, {\"text\": \"\\\\\", \"score\": 0.0019189219266368238}, {\"text\": \"n\", \"score\": 0.00439031794175147}, {\"text\": \"If\", \"score\": 0.01498716839980546}, {\"text\": \"you\", \"score\": 0.006901526844702383}, {\"text\": \"have\", \"score\": 0.0113514252594942}, {\"text\": \"programming\", \"score\": 0.26673098043763815}, {\"text\": \"background\", \"score\": 0.015490017952316524}, {\"text\": \",\", \"score\": 0.0027750283062842143}, {\"text\": \"You\", \"score\": 0.006499021718897154}, {\"text\": \"don\", \"score\": 0.005812885386975208}, {\"text\": \"'t\", \"score\": 0.005565634129611363}, {\"text\": \"need\", \"score\": 0.00875826851149979}, {\"text\": \"a\", \"score\": 0.007463344030119141}, {\"text\": \"book\", \"score\": 0.05749603049222757}, {\"text\": \".\", \"score\": 0.0823470465213866}]}, {\"score\": 0.0461908164829063, \"tokens\": [{\"text\": \"Just\", \"score\": 0.0034615088112944395}, {\"text\": \"use\", \"score\": 0.0022284268812233113}, {\"text\": \"the\", \"score\": 0.0005075661912752483}, {\"text\": \"lecture\", \"score\": 0.024025176453275753}, {\"text\": \"slides\", \"score\": 0.004034901176368411}, {\"text\": \"&\", \"score\": 0.0022741346705573338}, {\"text\": \"try\", \"score\": 0.0008368803304990061}, {\"text\": \"writing\", \"score\": 0.0045254344522493006}, {\"text\": \"some\", \"score\": 0.0010740391839618117}, {\"text\": \"programs\", \"score\": 0.020537415846137337}, {\"text\": \".\", \"score\": 0.007685334379147868}]}, {\"score\": 0.13240559560280823, \"tokens\": [{\"text\": \"\\\\\", \"score\": 0.0027325228005905043}, {\"text\": \"n\", \"score\": 0.002210582114264497}, {\"text\": \"\\\\\", \"score\": 0.004530865198455199}, {\"text\": \"n\", \"score\": 0.001856757440319859}, {\"text\": \"IF\", \"score\": 0.006335359787241268}, {\"text\": \"I\", \"score\": 0.003336246615012425}, {\"text\": \"W\", \"score\": 0.003025092680873751}, {\"text\": \"ERE\", \"score\": 0.004368933182622446}, {\"text\": \"YOU\", \"score\": 0.00895943832805511}, {\"text\": \"I\", \"score\": 0.005177126065615735}, {\"text\": \"W\", \"score\": 0.007720838768113423}, {\"text\": \"OULD\", \"score\": 0.005677055189231959}, {\"text\": \"DO\", \"score\": 0.01588241457747034}, {\"text\": \"THAT\", \"score\": 0.007356884648348214}, {\"text\": \",\", \"score\": 0.0032159577327851687}, {\"text\": \"I\", \"score\": 0.001867872860584916}, {\"text\": \"am\", \"score\": 0.002840779071009407}, {\"text\": \"expert\", \"score\": 0.013443359455031233}, {\"text\": \"on\", \"score\": 0.0037006762676922446}, {\"text\": \"few\", \"score\": 0.0069509315856841405}, {\"text\": \"languages\", \"score\": 0.07631228921609222}, {\"text\": \".\", \"score\": 0.016565932504665072}]}, {\"score\": 0.07805800761224226, \"tokens\": [{\"text\": \"It\", \"score\": 0.0067586016648432685}, {\"text\": \"depends\", \"score\": 0.0031969095236378843}, {\"text\": \"on\", \"score\": 0.0017458818601355703}, {\"text\": \"your\", \"score\": 0.0015297035369661364}, {\"text\": \"background\", \"score\": 0.014231166741039084}, {\"text\": \".\", \"score\": 0.00589978146358694}, {\"text\": \"\\\\\", \"score\": 0.0006790731554333205}, {\"text\": \"n\", \"score\": 0.0005098041244188641}, {\"text\": \"\\\\\", \"score\": 0.0010702567062066777}, {\"text\": \"n\", \"score\": 0.0007418886874249781}, {\"text\": \"Don\", \"score\": 0.009311702974770903}, {\"text\": \"'t\", \"score\": 0.0019187467371046603}, {\"text\": \"waste\", \"score\": 0.004010616416349037}, {\"text\": \"money\", \"score\": 0.003302300701781701}, {\"text\": \"on\", \"score\": 0.0011183675658281945}, {\"text\": \"the\", \"score\": 0.0011714401679449654}, {\"text\": \"books\", \"score\": 0.012556290685137769}, {\"text\": \",\", \"score\": 0.0020093110627249088}, {\"text\": \"You\", \"score\": 0.0027579693710423664}, {\"text\": \"can\", \"score\": 0.001946151551581723}, {\"text\": \"only\", \"score\": 0.0032931962763382452}, {\"text\": \"use\", \"score\": 0.004919893012944773}, {\"text\": \"them\", \"score\": 0.0011043818816413458}, {\"text\": \"for\", \"score\": 0.000833205616932107}, {\"text\": \"references\", \"score\": 0.018217696471437582}, {\"text\": \".\", \"score\": 0.015471260389714112}]}, {\"score\": 0.019553093126269624, \"tokens\": [{\"text\": \"You\", \"score\": 0.0065467446403701425}, {\"text\": \"can\", \"score\": 0.0017877747842769628}, {\"text\": \"'t\", \"score\": 0.0012983197967342598}, {\"text\": \"read\", \"score\": 0.006487436713111199}, {\"text\": \"every\", \"score\": 0.0010418959774816077}, {\"text\": \"single\", \"score\": 0.004763080927350892}, {\"text\": \"page\", \"score\": 0.0041260317973029585}, {\"text\": \".\", \"score\": 0.0040845934609070175}]}]});\n",
       "     "
      ],
      "text/plain": [
       "<IPython.core.display.Javascript object>"
      ]
     },
     "metadata": {},
     "output_type": "display_data"
    }
   ],
   "source": [
    "import random\n",
    "random.seed(42)\n",
    "\n",
    "for _ in range(10):\n",
    "    output_doc(inference(model, pre, rev_label_map, random.choice(X_test)))"
   ]
  },
  {
   "cell_type": "code",
   "execution_count": null,
   "metadata": {},
   "outputs": [],
   "source": []
  },
  {
   "cell_type": "code",
   "execution_count": null,
   "metadata": {},
   "outputs": [],
   "source": []
  },
  {
   "cell_type": "code",
   "execution_count": null,
   "metadata": {},
   "outputs": [],
   "source": []
  },
  {
   "cell_type": "code",
   "execution_count": null,
   "metadata": {},
   "outputs": [],
   "source": []
  }
 ],
 "metadata": {
  "kernelspec": {
   "display_name": "Python 3",
   "language": "python",
   "name": "python3"
  },
  "language_info": {
   "codemirror_mode": {
    "name": "ipython",
    "version": 3
   },
   "file_extension": ".py",
   "mimetype": "text/x-python",
   "name": "python",
   "nbconvert_exporter": "python",
   "pygments_lexer": "ipython3",
   "version": "3.7.6"
  },
  "toc": {
   "base_numbering": 1,
   "nav_menu": {},
   "number_sections": true,
   "sideBar": true,
   "skip_h1_title": false,
   "title_cell": "Table of Contents",
   "title_sidebar": "Contents",
   "toc_cell": false,
   "toc_position": {},
   "toc_section_display": true,
   "toc_window_display": false
  }
 },
 "nbformat": 4,
 "nbformat_minor": 4
}
