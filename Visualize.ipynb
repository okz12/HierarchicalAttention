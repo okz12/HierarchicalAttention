{
 "cells": [
  {
   "cell_type": "code",
   "execution_count": 10,
   "metadata": {
    "ExecuteTime": {
     "end_time": "2021-01-05T14:39:56.681776Z",
     "start_time": "2021-01-05T14:39:56.676886Z"
    }
   },
   "outputs": [],
   "source": [
    "document = {\n",
    "    'classification': 'Finance',\n",
    "    'lines': [\n",
    "        {\n",
    "            'score': 0.85,\n",
    "            'tokens': [\n",
    "                {'text': 'This', 'score': 0.20},\n",
    "                {'text': 'is', 'score': 0.30},\n",
    "                {'text': 'a', 'score': 0.40},\n",
    "                {'text': 'test', 'score': 0.60},\n",
    "                {'text': 'example', 'score': 0.70}\n",
    "            ]\n",
    "        },\n",
    "        {\n",
    "            'score': 0.25,\n",
    "            'tokens': [\n",
    "                {'text': 'Can', 'score': 0.90},\n",
    "                {'text': 'it', 'score': 0.60},\n",
    "                {'text': 'display', 'score': 0.30},\n",
    "                {'text': 'well?', 'score': 0.20}\n",
    "            ]\n",
    "        }\n",
    "    ]\n",
    "}"
   ]
  },
  {
   "cell_type": "code",
   "execution_count": 14,
   "metadata": {
    "ExecuteTime": {
     "end_time": "2021-01-05T14:40:04.605517Z",
     "start_time": "2021-01-05T14:40:04.601338Z"
    }
   },
   "outputs": [
    {
     "data": {
      "application/javascript": [
       "require.config({ \n",
       "     paths: { \n",
       "     d3: 'https://d3js.org/d3.v6.min'\n",
       "}});\n"
      ],
      "text/plain": [
       "<IPython.core.display.Javascript object>"
      ]
     },
     "metadata": {},
     "output_type": "display_data"
    }
   ],
   "source": [
    "%%javascript\n",
    "require.config({ \n",
    "     paths: { \n",
    "     d3: 'https://d3js.org/d3.v6.min'\n",
    "}});"
   ]
  },
  {
   "cell_type": "code",
   "execution_count": 15,
   "metadata": {
    "ExecuteTime": {
     "end_time": "2021-01-05T14:40:04.977824Z",
     "start_time": "2021-01-05T14:40:04.974568Z"
    }
   },
   "outputs": [],
   "source": [
    "import json\n",
    "from IPython.display import Javascript, HTML\n"
   ]
  },
  {
   "cell_type": "code",
   "execution_count": 17,
   "metadata": {
    "ExecuteTime": {
     "end_time": "2021-01-05T14:41:18.969249Z",
     "start_time": "2021-01-05T14:41:18.965368Z"
    },
    "scrolled": true
   },
   "outputs": [
    {
     "data": {
      "application/javascript": [
       "\n",
       "let doc = {\"classification\": \"Finance\", \"lines\": [{\"score\": 0.85, \"tokens\": [{\"text\": \"This\", \"score\": 0.2}, {\"text\": \"is\", \"score\": 0.3}, {\"text\": \"a\", \"score\": 0.4}, {\"text\": \"test\", \"score\": 0.6}, {\"text\": \"example\", \"score\": 0.7}]}, {\"score\": 0.25, \"tokens\": [{\"text\": \"Can\", \"score\": 0.9}, {\"text\": \"it\", \"score\": 0.6}, {\"text\": \"display\", \"score\": 0.3}, {\"text\": \"well?\", \"score\": 0.2}]}]};\n",
       " (function(element) {\n",
       "     require(['d3'], function(d3) {   \n",
       "\n",
       "         \n",
       "         for (const line of doc['lines']){\n",
       "             let thisdiv = d3.select(element.get(0)).append('div')\n",
       "            thisdiv.append('div')\n",
       "             .style('height', '20px')\n",
       "             .style('width', '20px')\n",
       "             .style('background-color', d3.interpolateReds(0.6 * line['score']))\n",
       "             .style('display', 'inline-block')\n",
       "             .style('margin-right', '4px')\n",
       "             .style('vertical-align', 'middle')\n",
       "             for (const token of line['tokens']){\n",
       "                 thisdiv\n",
       "                     .append('span')\n",
       "                     .text(token['text'] + ' ')\n",
       "                     .style('background-color', d3.interpolateBlues(0.6*token['score']))\n",
       "                     .style('margin', '2px')\n",
       "                     .style('padding', '2px')\n",
       "            }\n",
       "         }\n",
       "     })\n",
       " })(element);\n",
       " "
      ],
      "text/plain": [
       "<IPython.core.display.Javascript object>"
      ]
     },
     "execution_count": 17,
     "metadata": {},
     "output_type": "execute_result"
    }
   ],
   "source": [
    "Javascript(\"\"\"\n",
    "let doc = %s;\n",
    " (function(element) {\n",
    "     require(['d3'], function(d3) {   \n",
    "         for (const line of doc['lines']){\n",
    "             let thisdiv = d3.select(element.get(0)).append('div')\n",
    "            thisdiv.append('div')\n",
    "             .style('height', '20px')\n",
    "             .style('width', '20px')\n",
    "             .style('background-color', d3.interpolateReds(0.6 * line['score']))\n",
    "             .style('display', 'inline-block')\n",
    "             .style('margin-right', '4px')\n",
    "             .style('vertical-align', 'middle')\n",
    "             for (const token of line['tokens']){\n",
    "                 thisdiv\n",
    "                     .append('span')\n",
    "                     .text(token['text'] + ' ')\n",
    "                     .style('background-color', d3.interpolateBlues(0.6*token['score']))\n",
    "                     .style('margin', '2px')\n",
    "                     .style('padding', '2px')\n",
    "            }\n",
    "         }\n",
    "     })\n",
    " })(element);\n",
    " \"\"\" % json.dumps(document))"
   ]
  }
 ],
 "metadata": {
  "kernelspec": {
   "display_name": "Python 3",
   "language": "python",
   "name": "python3"
  },
  "language_info": {
   "codemirror_mode": {
    "name": "ipython",
    "version": 3
   },
   "file_extension": ".py",
   "mimetype": "text/x-python",
   "name": "python",
   "nbconvert_exporter": "python",
   "pygments_lexer": "ipython3",
   "version": "3.7.6"
  },
  "toc": {
   "base_numbering": 1,
   "nav_menu": {},
   "number_sections": true,
   "sideBar": true,
   "skip_h1_title": false,
   "title_cell": "Table of Contents",
   "title_sidebar": "Contents",
   "toc_cell": false,
   "toc_position": {},
   "toc_section_display": true,
   "toc_window_display": false
  }
 },
 "nbformat": 4,
 "nbformat_minor": 4
}
