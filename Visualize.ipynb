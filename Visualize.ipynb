{
 "cells": [
  {
   "cell_type": "code",
   "execution_count": 1,
   "metadata": {
    "ExecuteTime": {
     "end_time": "2021-01-05T19:29:31.622526Z",
     "start_time": "2021-01-05T19:29:31.617985Z"
    }
   },
   "outputs": [],
   "source": [
    "document = {\n",
    "    'classification': 'Finance',\n",
    "    'lines': [\n",
    "        {\n",
    "            'score': 0.85,\n",
    "            'tokens': [\n",
    "                {'text': 'This', 'score': 0.20},\n",
    "                {'text': 'is', 'score': 0.30},\n",
    "                {'text': 'a', 'score': 0.40},\n",
    "                {'text': 'test', 'score': 0.60},\n",
    "                {'text': 'example', 'score': 0.70}\n",
    "            ]\n",
    "        },\n",
    "        {\n",
    "            'score': 0.25,\n",
    "            'tokens': [\n",
    "                {'text': 'Can', 'score': 0.90},\n",
    "                {'text': 'it', 'score': 0.60},\n",
    "                {'text': 'display', 'score': 0.30},\n",
    "                {'text': 'well?', 'score': 0.20}\n",
    "            ]\n",
    "        }\n",
    "    ]\n",
    "}"
   ]
  },
  {
   "cell_type": "code",
   "execution_count": 2,
   "metadata": {
    "ExecuteTime": {
     "end_time": "2021-01-05T19:29:32.393835Z",
     "start_time": "2021-01-05T19:29:32.388919Z"
    },
    "scrolled": true
   },
   "outputs": [
    {
     "data": {
      "application/javascript": [
       "\n",
       "    require.config({\n",
       "        paths: {\n",
       "        d3: 'https://d3js.org/d3.v6.min'\n",
       "    }});\n",
       "\n",
       "    function outputHAN(element, doc) {\n",
       "         require(['d3'], function(d3) {\n",
       "             d3.select(element.get(0)).append('h3').text(`Prediction: ${doc['classification']}`)\n",
       "             d3.select(element.get(0)).append('br')\n",
       "             for (const line of doc['lines']){\n",
       "                 let thisdiv = d3.select(element.get(0)).append('div')\n",
       "                thisdiv.append('div')\n",
       "                 .style('height', '20px')\n",
       "                 .style('width', '20px')\n",
       "                 .style('background-color', d3.interpolateReds(0.6 * line['score']))\n",
       "                 .style('display', 'inline-block')\n",
       "                 .style('margin-right', '4px')\n",
       "                 .style('vertical-align', 'middle')\n",
       "                 for (const token of line['tokens']){\n",
       "                     thisdiv\n",
       "                         .append('span')\n",
       "                         .text(token['text'] + ' ')\n",
       "                         .style('background-color', d3.interpolateBlues(0.6*token['score']))\n",
       "                         .style('margin', '2px')\n",
       "                         .style('padding', '2px')\n",
       "                }\n",
       "             }\n",
       "         })\n",
       "     };\n",
       "     outputHAN(element, {\"classification\": \"Finance\", \"lines\": [{\"score\": 0.85, \"tokens\": [{\"text\": \"This\", \"score\": 0.2}, {\"text\": \"is\", \"score\": 0.3}, {\"text\": \"a\", \"score\": 0.4}, {\"text\": \"test\", \"score\": 0.6}, {\"text\": \"example\", \"score\": 0.7}]}, {\"score\": 0.25, \"tokens\": [{\"text\": \"Can\", \"score\": 0.9}, {\"text\": \"it\", \"score\": 0.6}, {\"text\": \"display\", \"score\": 0.3}, {\"text\": \"well?\", \"score\": 0.2}]}]});\n",
       "     "
      ],
      "text/plain": [
       "<IPython.core.display.Javascript object>"
      ]
     },
     "metadata": {},
     "output_type": "display_data"
    }
   ],
   "source": [
    "from IPython.display import Javascript, display\n",
    "import json\n",
    "\n",
    "def output_doc(doc) -> None:\n",
    "    display(Javascript(\"\"\"\n",
    "    require.config({\n",
    "        paths: {\n",
    "        d3: 'https://d3js.org/d3.v6.min'\n",
    "    }});\n",
    "\n",
    "    function outputHAN(element, doc) {\n",
    "         require(['d3'], function(d3) {\n",
    "             d3.select(element.get(0)).append('h3').text(`Prediction: ${doc['classification']}`)\n",
    "             d3.select(element.get(0)).append('br')\n",
    "             for (const line of doc['lines']){\n",
    "                 let thisdiv = d3.select(element.get(0)).append('div')\n",
    "                thisdiv.append('div')\n",
    "                 .style('height', '20px')\n",
    "                 .style('width', '20px')\n",
    "                 .style('background-color', d3.interpolateReds(0.6 * line['score']))\n",
    "                 .style('display', 'inline-block')\n",
    "                 .style('margin-right', '4px')\n",
    "                 .style('vertical-align', 'middle')\n",
    "                 for (const token of line['tokens']){\n",
    "                     thisdiv\n",
    "                         .append('span')\n",
    "                         .text(token['text'] + ' ')\n",
    "                         .style('background-color', d3.interpolateBlues(0.6*token['score']))\n",
    "                         .style('margin', '2px')\n",
    "                         .style('padding', '2px')\n",
    "                }\n",
    "             }\n",
    "         })\n",
    "     };\n",
    "     outputHAN(element, %s);\n",
    "     \"\"\" % json.dumps(doc)))\n",
    "    \n",
    "output_doc(document)"
   ]
  },
  {
   "cell_type": "code",
   "execution_count": 3,
   "metadata": {},
   "outputs": [
    {
     "name": "stderr",
     "output_type": "stream",
     "text": [
      "/opt/conda/lib/python3.8/site-packages/torch/nn/modules/rnn.py:58: UserWarning: dropout option adds dropout after all but last recurrent layer, so non-zero dropout expects num_layers greater than 1, but got dropout=0.3 and num_layers=1\n",
      "  warnings.warn(\"dropout option adds dropout after all but last \"\n"
     ]
    },
    {
     "data": {
      "text/plain": [
       "_IncompatibleKeys(missing_keys=['sentence_attention.word_attention.embeddings.weight'], unexpected_keys=[])"
      ]
     },
     "execution_count": 3,
     "metadata": {},
     "output_type": "execute_result"
    }
   ],
   "source": [
    "from utils import HANDataset\n",
    "import pytorch_lightning as pl\n",
    "from model import HierarchicalAttentionNetwork, Preprocessor\n",
    "from transformers import AutoTokenizer, AutoModel\n",
    "from nltk.tokenize import PunktSentenceTokenizer\n",
    "from tqdm import tqdm\n",
    "import torch\n",
    "\n",
    "pretrained_embedding_model = 'distilroberta-base'\n",
    "embedding_layer = AutoModel.from_pretrained(pretrained_embedding_model).get_input_embeddings()\n",
    "pre = Preprocessor(PunktSentenceTokenizer(), AutoTokenizer.from_pretrained(pretrained_embedding_model, use_fast=True))\n",
    "\n",
    "model = HierarchicalAttentionNetwork(n_classes = 10, \n",
    "                                    embedding_layer = embedding_layer,\n",
    "                                    embedding_size = 768,\n",
    "                                    fine_tune_embeddings = False, \n",
    "                                    word_rnn_size = 50, \n",
    "                                    sentence_rnn_size = 50, \n",
    "                                    word_rnn_layers = 1,\n",
    "                                    sentence_rnn_layers = 1, \n",
    "                                    word_att_size = 100, # size of the word-level attention layer (also the size of the word context vector)\n",
    "                                    sentence_att_size = 100, # size of the sentence-level attention layer (also the size of the sentence context vector)\n",
    "                                    dropout = 0.3)\n",
    "model.load_state_dict(torch.load('model.pth'), strict = False)"
   ]
  }
 ],
 "metadata": {
  "kernelspec": {
   "display_name": "Python 3",
   "language": "python",
   "name": "python3"
  },
  "language_info": {
   "codemirror_mode": {
    "name": "ipython",
    "version": 3
   },
   "file_extension": ".py",
   "mimetype": "text/x-python",
   "name": "python",
   "nbconvert_exporter": "python",
   "pygments_lexer": "ipython3",
   "version": "3.8.3"
  },
  "toc": {
   "base_numbering": 1,
   "nav_menu": {},
   "number_sections": true,
   "sideBar": true,
   "skip_h1_title": false,
   "title_cell": "Table of Contents",
   "title_sidebar": "Contents",
   "toc_cell": false,
   "toc_position": {},
   "toc_section_display": true,
   "toc_window_display": false
  }
 },
 "nbformat": 4,
 "nbformat_minor": 4
}
