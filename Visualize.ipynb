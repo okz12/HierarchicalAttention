{
 "cells": [
  {
   "cell_type": "code",
   "execution_count": 52,
   "metadata": {
    "ExecuteTime": {
     "end_time": "2021-01-13T14:29:59.831726Z",
     "start_time": "2021-01-13T14:29:59.826996Z"
    }
   },
   "outputs": [],
   "source": [
    "document = {\n",
    "    'classification': 'Finance',\n",
    "    'score': 0.7,\n",
    "    'lines': [\n",
    "        {\n",
    "            'score': 0.85,\n",
    "            'tokens': [\n",
    "                {'text': 'This', 'score': 0.20},\n",
    "                {'text': 'is', 'score': 0.30},\n",
    "                {'text': 'a', 'score': 0.40},\n",
    "                {'text': 'test', 'score': 0.60},\n",
    "                {'text': 'example', 'score': 0.70}\n",
    "            ]\n",
    "        },\n",
    "        {\n",
    "            'score': 0.25,\n",
    "            'tokens': [\n",
    "                {'text': 'Can', 'score': 0.90},\n",
    "                {'text': 'it', 'score': 0.60},\n",
    "                {'text': 'display', 'score': 0.30},\n",
    "                {'text': 'well?', 'score': 0.20}\n",
    "            ]\n",
    "        }\n",
    "    ]\n",
    "}"
   ]
  },
  {
   "cell_type": "code",
   "execution_count": 67,
   "metadata": {
    "ExecuteTime": {
     "end_time": "2021-01-13T14:33:11.505061Z",
     "start_time": "2021-01-13T14:33:11.499173Z"
    },
    "scrolled": true
   },
   "outputs": [
    {
     "data": {
      "application/javascript": [
       "\n",
       "    require.config({\n",
       "        paths: {\n",
       "        d3: 'https://d3js.org/d3.v6.min'\n",
       "    }});\n",
       "\n",
       "    function outputHAN(element, doc) {\n",
       "         require(['d3'], function(d3) {\n",
       "             d3.select(element.get(0)).append('h3').text(`Prediction: ${doc['classification']} - ${doc['score']}`)\n",
       "             d3.select(element.get(0)).append('br')\n",
       "             for (const line of doc['lines']){\n",
       "                 let thisdiv = d3.select(element.get(0)).append('div')\n",
       "                thisdiv.append('div')\n",
       "                 .style('height', '20px')\n",
       "                 .style('width', '20px')\n",
       "                 .style('background-color', d3.interpolateReds(0.6 * line['score']))\n",
       "                 .style('display', 'inline-block')\n",
       "                 .style('margin-right', '4px')\n",
       "                 .style('vertical-align', 'middle')\n",
       "                 for (const token of line['tokens']){\n",
       "                     thisdiv\n",
       "                         .append('span')\n",
       "                         .text(token['text'])\n",
       "                         .style('background-color', d3.interpolateBlues(0.6*token['score']))\n",
       "                         .style('margin', '2px')\n",
       "                         .style('padding', '2px')\n",
       "                }\n",
       "             }\n",
       "         })\n",
       "     };\n",
       "     outputHAN(element, {\"classification\": \"Finance\", \"score\": 0.7, \"lines\": [{\"score\": 0.85, \"tokens\": [{\"text\": \"This\", \"score\": 0.2}, {\"text\": \"is\", \"score\": 0.3}, {\"text\": \"a\", \"score\": 0.4}, {\"text\": \"test\", \"score\": 0.6}, {\"text\": \"example\", \"score\": 0.7}]}, {\"score\": 0.25, \"tokens\": [{\"text\": \"Can\", \"score\": 0.9}, {\"text\": \"it\", \"score\": 0.6}, {\"text\": \"display\", \"score\": 0.3}, {\"text\": \"well?\", \"score\": 0.2}]}]});\n",
       "     "
      ],
      "text/plain": [
       "<IPython.core.display.Javascript object>"
      ]
     },
     "metadata": {},
     "output_type": "display_data"
    }
   ],
   "source": [
    "from IPython.display import Javascript, display\n",
    "import json\n",
    "\n",
    "def output_doc(doc) -> None:\n",
    "    display(Javascript(\"\"\"\n",
    "    require.config({\n",
    "        paths: {\n",
    "        d3: 'https://d3js.org/d3.v6.min'\n",
    "    }});\n",
    "\n",
    "    function outputHAN(element, doc) {\n",
    "         require(['d3'], function(d3) {\n",
    "             d3.select(element.get(0)).append('h3').text(`Prediction: ${doc['classification']} - ${doc['score']}`)\n",
    "             d3.select(element.get(0)).append('br')\n",
    "             for (const line of doc['lines']){\n",
    "                 let thisdiv = d3.select(element.get(0)).append('div')\n",
    "                thisdiv.append('div')\n",
    "                 .style('height', '20px')\n",
    "                 .style('width', '20px')\n",
    "                 .style('background-color', d3.interpolateReds(0.6 * line['score']))\n",
    "                 .style('display', 'inline-block')\n",
    "                 .style('margin-right', '4px')\n",
    "                 .style('vertical-align', 'middle')\n",
    "                 for (const token of line['tokens']){\n",
    "                     thisdiv\n",
    "                         .append('span')\n",
    "                         .text(token['text'])\n",
    "                         .style('background-color', d3.interpolateBlues(0.6*token['score']))\n",
    "                         .style('margin', '2px')\n",
    "                         .style('padding', '2px')\n",
    "                }\n",
    "             }\n",
    "         })\n",
    "     };\n",
    "     outputHAN(element, %s);\n",
    "     \"\"\" % json.dumps(doc)))\n",
    "    \n",
    "output_doc(document)"
   ]
  },
  {
   "cell_type": "code",
   "execution_count": 24,
   "metadata": {
    "ExecuteTime": {
     "end_time": "2021-01-12T18:20:32.432788Z",
     "start_time": "2021-01-12T18:20:29.448444Z"
    }
   },
   "outputs": [
    {
     "data": {
      "text/plain": [
       "_IncompatibleKeys(missing_keys=['sentence_attention.word_attention.embeddings.weight'], unexpected_keys=[])"
      ]
     },
     "execution_count": 24,
     "metadata": {},
     "output_type": "execute_result"
    }
   ],
   "source": [
    "from utils import HANDataset\n",
    "import pytorch_lightning as pl\n",
    "from model import HierarchicalAttentionNetwork, Preprocessor\n",
    "from transformers import AutoTokenizer, AutoModel\n",
    "from nltk.tokenize import PunktSentenceTokenizer\n",
    "from tqdm import tqdm\n",
    "import torch\n",
    "\n",
    "pretrained_embedding_model = 'distilroberta-base'\n",
    "embedding_layer = AutoModel.from_pretrained(pretrained_embedding_model).get_input_embeddings()\n",
    "pre = Preprocessor(PunktSentenceTokenizer(), AutoTokenizer.from_pretrained(pretrained_embedding_model, use_fast=True))\n",
    "\n",
    "model = HierarchicalAttentionNetwork(n_classes = 10, \n",
    "                                    embedding_layer = embedding_layer,\n",
    "                                    embedding_size = 768,\n",
    "                                    fine_tune_embeddings = False, \n",
    "                                    word_rnn_size = 50, \n",
    "                                    sentence_rnn_size = 50, \n",
    "                                    word_rnn_layers = 1,\n",
    "                                    sentence_rnn_layers = 1, \n",
    "                                    word_att_size = 100, # size of the word-level attention layer (also the size of the word context vector)\n",
    "                                    sentence_att_size = 100, # size of the sentence-level attention layer (also the size of the sentence context vector)\n",
    "                                    dropout = 0.3)\n",
    "model.load_state_dict(torch.load('model.pth', map_location = 'cpu'), strict = False)"
   ]
  },
  {
   "cell_type": "code",
   "execution_count": 48,
   "metadata": {
    "ExecuteTime": {
     "end_time": "2021-01-13T14:25:39.719192Z",
     "start_time": "2021-01-13T14:25:39.035258Z"
    }
   },
   "outputs": [],
   "source": [
    "import pandas as pd\n",
    "from sklearn.model_selection import train_test_split\n",
    "\n",
    "with open ('data/yahoo_answers_csv/classes.txt') as f:\n",
    "    classes = f.read()\n",
    "rev_label_map = {i: c for i, c in enumerate(classes.split(\"\\n\")[:-1])}\n",
    "label_map = {v : i for i, v in rev_label_map.items()}\n",
    "\n",
    "def dataframe_process(df):\n",
    "    df = df.fillna('')\n",
    "    df['Text'] = 'Q. ' + df['Question'] + ' ' + df['Question Desc'] + ' A. ' + df['Answers']\n",
    "    df = df.drop(['Question', 'Question Desc', 'Answers'], axis=1)\n",
    "    df['Label'] = df['Label'] - 1\n",
    "    return df\n",
    "test = pd.read_csv(\"./data/yahoo_answers_csv/test.csv\", header = None, names = ['Label', 'Question', 'Question Desc','Answers'])\n",
    "test = dataframe_process(test)\n",
    "X_test, y_test = list(test['Text']), list(test['Label'])"
   ]
  },
  {
   "cell_type": "code",
   "execution_count": 49,
   "metadata": {
    "ExecuteTime": {
     "end_time": "2021-01-13T14:25:43.436708Z",
     "start_time": "2021-01-13T14:25:39.721425Z"
    }
   },
   "outputs": [],
   "source": [
    "pretrained_embedding_model = 'distilroberta-base'\n",
    "embedding_layer = AutoModel.from_pretrained(pretrained_embedding_model).get_input_embeddings()\n",
    "pre = Preprocessor(PunktSentenceTokenizer(), AutoTokenizer.from_pretrained(pretrained_embedding_model, use_fast=True))"
   ]
  },
  {
   "cell_type": "code",
   "execution_count": 78,
   "metadata": {
    "ExecuteTime": {
     "end_time": "2021-01-13T15:17:50.165900Z",
     "start_time": "2021-01-13T15:17:50.150964Z"
    }
   },
   "outputs": [],
   "source": [
    "sample = X_test[0]\n",
    "doc, sentences_in_doc, words_in_each_sentence = pre.encode_document(sample, max_words=70, max_sentences=len(pre.sentence_tokenizer.tokenize(sample)))\n",
    "doc = torch.LongTensor(doc).unsqueeze(0)\n",
    "sentences_in_doc = torch.LongTensor([sentences_in_doc])\n",
    "words_in_each_sentence = words_in_each_sentence.unsqueeze(0)\n",
    "\n",
    "scores, word_alphas, sentence_alphas = model(doc, sentences_in_doc, words_in_each_sentence)\n"
   ]
  },
  {
   "cell_type": "code",
   "execution_count": 84,
   "metadata": {
    "ExecuteTime": {
     "end_time": "2021-01-14T14:31:31.613796Z",
     "start_time": "2021-01-14T14:31:31.605654Z"
    }
   },
   "outputs": [],
   "source": [
    "score, prediction_index = scores.max(dim=1)\n",
    "score = float(score.exp()/scores.exp().sum())\n",
    "prediction = rev_label_map[prediction_index.item()]"
   ]
  },
  {
   "cell_type": "code",
   "execution_count": 85,
   "metadata": {
    "ExecuteTime": {
     "end_time": "2021-01-14T14:31:32.217158Z",
     "start_time": "2021-01-14T14:31:32.203571Z"
    }
   },
   "outputs": [],
   "source": [
    "sen_len_norm = (words_in_each_sentence.unsqueeze(1).float() / words_in_each_sentence.max().float()).squeeze(0).squeeze(0)\n",
    "sentence_alphas = sentence_alphas * sen_len_norm\n",
    "alphas = torch.bmm(sentence_alphas.squeeze(0).unsqueeze(1).unsqueeze(1) , word_alphas.squeeze(0).unsqueeze(1)).squeeze(1)\n",
    "alphas = alphas.to('cpu')"
   ]
  },
  {
   "cell_type": "code",
   "execution_count": 90,
   "metadata": {
    "ExecuteTime": {
     "end_time": "2021-01-14T14:33:24.130666Z",
     "start_time": "2021-01-14T14:33:24.112513Z"
    }
   },
   "outputs": [
    {
     "data": {
      "application/javascript": [
       "\n",
       "    require.config({\n",
       "        paths: {\n",
       "        d3: 'https://d3js.org/d3.v6.min'\n",
       "    }});\n",
       "\n",
       "    function outputHAN(element, doc) {\n",
       "         require(['d3'], function(d3) {\n",
       "             d3.select(element.get(0)).append('h3').text(`Prediction: ${doc['classification']} - ${doc['score']}`)\n",
       "             d3.select(element.get(0)).append('br')\n",
       "             for (const line of doc['lines']){\n",
       "                 let thisdiv = d3.select(element.get(0)).append('div')\n",
       "                thisdiv.append('div')\n",
       "                 .style('height', '20px')\n",
       "                 .style('width', '20px')\n",
       "                 .style('background-color', d3.interpolateReds(0.6 * line['score']))\n",
       "                 .style('display', 'inline-block')\n",
       "                 .style('margin-right', '4px')\n",
       "                 .style('vertical-align', 'middle')\n",
       "                 for (const token of line['tokens']){\n",
       "                     thisdiv\n",
       "                         .append('span')\n",
       "                         .text(token['text'])\n",
       "                         .style('background-color', d3.interpolateBlues(0.6*token['score']))\n",
       "                         .style('margin', '2px')\n",
       "                         .style('padding', '2px')\n",
       "                }\n",
       "             }\n",
       "         })\n",
       "     };\n",
       "     outputHAN(element, {\"classification\": \"Family & Relationships\", \"score\": 0.5787439346313477, \"lines\": [{\"score\": 1.0, \"tokens\": [{\"text\": \"Q\", \"score\": 0.1699544278243357}, {\"text\": \".\", \"score\": 0.20564718741037674}, {\"text\": \"What\", \"score\": 0.10976312366452749}, {\"text\": \"makes\", \"score\": 0.3983588456803665}, {\"text\": \"friendship\", \"score\": 1.0}, {\"text\": \"click\", \"score\": 0.13237234878846987}, {\"text\": \"?\", \"score\": 0.2360388837083249}]}, {\"score\": 0.282434452010904, \"tokens\": [{\"text\": \"How\", \"score\": 0.062386962645749944}, {\"text\": \"does\", \"score\": 0.035325428054590456}, {\"text\": \"the\", \"score\": 0.023142276786352802}, {\"text\": \"spark\", \"score\": 0.3132705501356045}, {\"text\": \"keep\", \"score\": 0.029487892689603102}, {\"text\": \"going\", \"score\": 0.03476208369065124}, {\"text\": \"?\", \"score\": 0.13770530796623012}]}, {\"score\": 0.1904180219446807, \"tokens\": [{\"text\": \"A\", \"score\": 0.026681897961221446}, {\"text\": \".\", \"score\": 0.03437811803305636}, {\"text\": \"good\", \"score\": 0.013359352069583268}, {\"text\": \"communication\", \"score\": 0.2079648099028478}, {\"text\": \"is\", \"score\": 0.018186620802391803}, {\"text\": \"what\", \"score\": 0.009514338243218715}, {\"text\": \"does\", \"score\": 0.011802664780713073}, {\"text\": \"it\", \"score\": 0.03637439573237025}, {\"text\": \".\", \"score\": 0.07058485679853502}]}, {\"score\": 0.28811564744870216, \"tokens\": [{\"text\": \"Can\", \"score\": 0.0942483166188799}, {\"text\": \"you\", \"score\": 0.04620251398701911}, {\"text\": \"move\", \"score\": 0.08229266278369464}, {\"text\": \"beyond\", \"score\": 0.024432681660017885}, {\"text\": \"small\", \"score\": 0.014513027448058215}, {\"text\": \"talk\", \"score\": 0.06694233360804087}, {\"text\": \"and\", \"score\": 0.010638772225475603}, {\"text\": \"say\", \"score\": 0.02260141063097389}, {\"text\": \"what\", \"score\": 0.016547728153145393}, {\"text\": \"'s\", \"score\": 0.012076693490438384}, {\"text\": \"really\", \"score\": 0.02376388151086599}, {\"text\": \"on\", \"score\": 0.01348908650239142}, {\"text\": \"your\", \"score\": 0.02322332382231478}, {\"text\": \"mind\", \"score\": 0.08144329202916345}, {\"text\": \".\", \"score\": 0.11645950622073929}]}, {\"score\": 0.9086341361779054, \"tokens\": [{\"text\": \"If\", \"score\": 0.1809121599956917}, {\"text\": \"you\", \"score\": 0.0494637847689539}, {\"text\": \"start\", \"score\": 0.16859734165554172}, {\"text\": \"doing\", \"score\": 0.08137020847354934}, {\"text\": \"this\", \"score\": 0.022648341655474566}, {\"text\": \",\", \"score\": 0.030638732061835587}, {\"text\": \"my\", \"score\": 0.031276559623389454}, {\"text\": \"ex\", \"score\": 0.12256285185782813}, {\"text\": \"pe\", \"score\": 0.0241586099328098}, {\"text\": \"re\", \"score\": 0.0174277640776538}, {\"text\": \"ince\", \"score\": 0.04480086170607018}, {\"text\": \"is\", \"score\": 0.047702145404833037}, {\"text\": \"that\", \"score\": 0.049385518131268846}, {\"text\": \"potentially\", \"score\": 0.28882983784599736}, {\"text\": \"good\", \"score\": 0.024666831064796935}, {\"text\": \"friends\", \"score\": 0.313955472397935}, {\"text\": \"will\", \"score\": 0.060914430143670505}, {\"text\": \"respond\", \"score\": 0.11181918307441593}, {\"text\": \"or\", \"score\": 0.030307617054054}, {\"text\": \"shun\", \"score\": 0.1302828154817411}, {\"text\": \"you\", \"score\": 0.057980856053447036}, {\"text\": \".\", \"score\": 0.1566646360736066}]}, {\"score\": 0.13919932124886297, \"tokens\": [{\"text\": \"Then\", \"score\": 0.058155683300272404}, {\"text\": \"you\", \"score\": 0.02336417565140304}, {\"text\": \"know\", \"score\": 0.01647111716394373}, {\"text\": \"who\", \"score\": 0.015170355568998834}, {\"text\": \"the\", \"score\": 0.007130677094843133}, {\"text\": \"really\", \"score\": 0.009296427413583795}, {\"text\": \"good\", \"score\": 0.0074702712681624425}, {\"text\": \"friends\", \"score\": 0.06613409596069782}, {\"text\": \"are\", \"score\": 0.028131192628947192}, {\"text\": \".\", \"score\": 0.08217162627606221}]}]});\n",
       "     "
      ],
      "text/plain": [
       "<IPython.core.display.Javascript object>"
      ]
     },
     "metadata": {},
     "output_type": "display_data"
    }
   ],
   "source": [
    "document = {\n",
    "    'classification': prediction,\n",
    "    'score': score,\n",
    "    'lines': []\n",
    "}\n",
    "\n",
    "for s, sentence in enumerate(doc.squeeze(0)):\n",
    "    sentence_factor = sentence_alphas.squeeze(0)[s].item() / sentence_alphas.squeeze(0).max().item()\n",
    "    sentence_decoded = pre.word_tokenizer.convert_ids_to_tokens(sentence, skip_special_tokens=True)    \n",
    "    line = {\n",
    "        'score': sentence_factor,\n",
    "        'tokens': []\n",
    "    }\n",
    "    for w, word in enumerate(sentence_decoded):\n",
    "        word_factor = alphas[s, w].item() / alphas.max().item()\n",
    "        line['tokens'].append({'text': word.replace(\"Ġ\", \"\"), 'score': word_factor})\n",
    "    document['lines'].append(line)\n",
    "output_doc(document)"
   ]
  }
 ],
 "metadata": {
  "kernelspec": {
   "display_name": "Python 3",
   "language": "python",
   "name": "python3"
  },
  "language_info": {
   "codemirror_mode": {
    "name": "ipython",
    "version": 3
   },
   "file_extension": ".py",
   "mimetype": "text/x-python",
   "name": "python",
   "nbconvert_exporter": "python",
   "pygments_lexer": "ipython3",
   "version": "3.7.6"
  },
  "toc": {
   "base_numbering": 1,
   "nav_menu": {},
   "number_sections": true,
   "sideBar": true,
   "skip_h1_title": false,
   "title_cell": "Table of Contents",
   "title_sidebar": "Contents",
   "toc_cell": false,
   "toc_position": {},
   "toc_section_display": true,
   "toc_window_display": false
  }
 },
 "nbformat": 4,
 "nbformat_minor": 4
}
